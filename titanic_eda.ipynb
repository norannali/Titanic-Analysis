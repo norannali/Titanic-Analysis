{
  "cells": [
    {
      "cell_type": "markdown",
      "metadata": {
        "id": "view-in-github",
        "colab_type": "text"
      },
      "source": [
        "<a href=\"https://colab.research.google.com/github/norannali/Titanic-Analysis/blob/main/titanic_eda.ipynb\" target=\"_parent\"><img src=\"https://colab.research.google.com/assets/colab-badge.svg\" alt=\"Open In Colab\"/></a>"
      ]
    },
    {
      "cell_type": "code",
      "execution_count": null,
      "id": "a3f68ae3",
      "metadata": {
        "_cell_guid": "b1076dfc-b9ad-4769-8c92-a6c4dae69d19",
        "_uuid": "8f2839f25d086af736a60e9eeb907d3b93b6e0e5",
        "execution": {
          "iopub.execute_input": "2025-01-07T22:40:09.118617Z",
          "iopub.status.busy": "2025-01-07T22:40:09.118290Z",
          "iopub.status.idle": "2025-01-07T22:40:09.493043Z",
          "shell.execute_reply": "2025-01-07T22:40:09.491709Z"
        },
        "papermill": {
          "duration": 0.387838,
          "end_time": "2025-01-07T22:40:09.495229",
          "exception": false,
          "start_time": "2025-01-07T22:40:09.107391",
          "status": "completed"
        },
        "tags": [],
        "id": "a3f68ae3",
        "outputId": "eecbc278-0fec-47b2-9a8d-ddf07ec79e3e"
      },
      "outputs": [
        {
          "name": "stdout",
          "output_type": "stream",
          "text": [
            "/kaggle/input/titanic/train.csv\n",
            "/kaggle/input/titanic/test.csv\n",
            "/kaggle/input/titanic/gender_submission.csv\n"
          ]
        }
      ],
      "source": [
        "# This Python 3 environment comes with many helpful analytics libraries installed\n",
        "# It is defined by the kaggle/python Docker image: https://github.com/kaggle/docker-python\n",
        "# For example, here's several helpful packages to load\n",
        "\n",
        "import numpy as np # linear algebra\n",
        "import pandas as pd # data processing, CSV file I/O (e.g. pd.read_csv)\n",
        "\n",
        "# Input data files are available in the read-only \"../input/\" directory\n",
        "# For example, running this (by clicking run or pressing Shift+Enter) will list all files under the input directory\n",
        "\n",
        "import os\n",
        "for dirname, _, filenames in os.walk('/kaggle/input'):\n",
        "    for filename in filenames:\n",
        "        print(os.path.join(dirname, filename))\n",
        "\n",
        "# You can write up to 20GB to the current directory (/kaggle/working/) that gets preserved as output when you create a version using \"Save & Run All\"\n",
        "# You can also write temporary files to /kaggle/temp/, but they won't be saved outside of the current session"
      ]
    },
    {
      "cell_type": "code",
      "execution_count": null,
      "id": "3bf1596e",
      "metadata": {
        "execution": {
          "iopub.execute_input": "2025-01-07T22:40:09.515613Z",
          "iopub.status.busy": "2025-01-07T22:40:09.515156Z",
          "iopub.status.idle": "2025-01-07T22:40:11.247941Z",
          "shell.execute_reply": "2025-01-07T22:40:11.246912Z"
        },
        "papermill": {
          "duration": 1.744917,
          "end_time": "2025-01-07T22:40:11.249826",
          "exception": false,
          "start_time": "2025-01-07T22:40:09.504909",
          "status": "completed"
        },
        "tags": [],
        "id": "3bf1596e"
      },
      "outputs": [],
      "source": [
        "import numpy as np\n",
        "import pandas as pd\n",
        "import matplotlib.pyplot as plt\n",
        "import seaborn as sns\n",
        "sns.set_style('whitegrid')\n",
        "%matplotlib inline\n",
        "from collections import Counter"
      ]
    },
    {
      "cell_type": "markdown",
      "id": "37f59823",
      "metadata": {
        "papermill": {
          "duration": 0.008599,
          "end_time": "2025-01-07T22:40:11.267547",
          "exception": false,
          "start_time": "2025-01-07T22:40:11.258948",
          "status": "completed"
        },
        "tags": [],
        "id": "37f59823"
      },
      "source": [
        "# **1-Load Data**"
      ]
    },
    {
      "cell_type": "code",
      "execution_count": null,
      "id": "d2583b45",
      "metadata": {
        "execution": {
          "iopub.execute_input": "2025-01-07T22:40:11.286555Z",
          "iopub.status.busy": "2025-01-07T22:40:11.286093Z",
          "iopub.status.idle": "2025-01-07T22:40:11.315020Z",
          "shell.execute_reply": "2025-01-07T22:40:11.314065Z"
        },
        "papermill": {
          "duration": 0.040566,
          "end_time": "2025-01-07T22:40:11.316930",
          "exception": false,
          "start_time": "2025-01-07T22:40:11.276364",
          "status": "completed"
        },
        "tags": [],
        "id": "d2583b45"
      },
      "outputs": [],
      "source": [
        "train_df=pd.read_csv('/kaggle/input/titanic/train.csv')\n",
        "test_df=pd.read_csv('/kaggle/input/titanic/test.csv')"
      ]
    },
    {
      "cell_type": "markdown",
      "id": "5ee47d13",
      "metadata": {
        "papermill": {
          "duration": 0.009118,
          "end_time": "2025-01-07T22:40:11.335356",
          "exception": false,
          "start_time": "2025-01-07T22:40:11.326238",
          "status": "completed"
        },
        "tags": [],
        "id": "5ee47d13"
      },
      "source": [
        "# **2-Explore Data**"
      ]
    },
    {
      "cell_type": "code",
      "execution_count": null,
      "id": "faf7643a",
      "metadata": {
        "execution": {
          "iopub.execute_input": "2025-01-07T22:40:11.354572Z",
          "iopub.status.busy": "2025-01-07T22:40:11.354244Z",
          "iopub.status.idle": "2025-01-07T22:40:11.380080Z",
          "shell.execute_reply": "2025-01-07T22:40:11.378752Z"
        },
        "papermill": {
          "duration": 0.037331,
          "end_time": "2025-01-07T22:40:11.381720",
          "exception": false,
          "start_time": "2025-01-07T22:40:11.344389",
          "status": "completed"
        },
        "tags": [],
        "id": "faf7643a",
        "outputId": "95307d74-f915-4938-b94b-61546d26f08b"
      },
      "outputs": [
        {
          "data": {
            "text/html": [
              "<div>\n",
              "<style scoped>\n",
              "    .dataframe tbody tr th:only-of-type {\n",
              "        vertical-align: middle;\n",
              "    }\n",
              "\n",
              "    .dataframe tbody tr th {\n",
              "        vertical-align: top;\n",
              "    }\n",
              "\n",
              "    .dataframe thead th {\n",
              "        text-align: right;\n",
              "    }\n",
              "</style>\n",
              "<table border=\"1\" class=\"dataframe\">\n",
              "  <thead>\n",
              "    <tr style=\"text-align: right;\">\n",
              "      <th></th>\n",
              "      <th>PassengerId</th>\n",
              "      <th>Survived</th>\n",
              "      <th>Pclass</th>\n",
              "      <th>Name</th>\n",
              "      <th>Sex</th>\n",
              "      <th>Age</th>\n",
              "      <th>SibSp</th>\n",
              "      <th>Parch</th>\n",
              "      <th>Ticket</th>\n",
              "      <th>Fare</th>\n",
              "      <th>Cabin</th>\n",
              "      <th>Embarked</th>\n",
              "    </tr>\n",
              "  </thead>\n",
              "  <tbody>\n",
              "    <tr>\n",
              "      <th>0</th>\n",
              "      <td>1</td>\n",
              "      <td>0</td>\n",
              "      <td>3</td>\n",
              "      <td>Braund, Mr. Owen Harris</td>\n",
              "      <td>male</td>\n",
              "      <td>22.0</td>\n",
              "      <td>1</td>\n",
              "      <td>0</td>\n",
              "      <td>A/5 21171</td>\n",
              "      <td>7.2500</td>\n",
              "      <td>NaN</td>\n",
              "      <td>S</td>\n",
              "    </tr>\n",
              "    <tr>\n",
              "      <th>1</th>\n",
              "      <td>2</td>\n",
              "      <td>1</td>\n",
              "      <td>1</td>\n",
              "      <td>Cumings, Mrs. John Bradley (Florence Briggs Th...</td>\n",
              "      <td>female</td>\n",
              "      <td>38.0</td>\n",
              "      <td>1</td>\n",
              "      <td>0</td>\n",
              "      <td>PC 17599</td>\n",
              "      <td>71.2833</td>\n",
              "      <td>C85</td>\n",
              "      <td>C</td>\n",
              "    </tr>\n",
              "    <tr>\n",
              "      <th>2</th>\n",
              "      <td>3</td>\n",
              "      <td>1</td>\n",
              "      <td>3</td>\n",
              "      <td>Heikkinen, Miss. Laina</td>\n",
              "      <td>female</td>\n",
              "      <td>26.0</td>\n",
              "      <td>0</td>\n",
              "      <td>0</td>\n",
              "      <td>STON/O2. 3101282</td>\n",
              "      <td>7.9250</td>\n",
              "      <td>NaN</td>\n",
              "      <td>S</td>\n",
              "    </tr>\n",
              "    <tr>\n",
              "      <th>3</th>\n",
              "      <td>4</td>\n",
              "      <td>1</td>\n",
              "      <td>1</td>\n",
              "      <td>Futrelle, Mrs. Jacques Heath (Lily May Peel)</td>\n",
              "      <td>female</td>\n",
              "      <td>35.0</td>\n",
              "      <td>1</td>\n",
              "      <td>0</td>\n",
              "      <td>113803</td>\n",
              "      <td>53.1000</td>\n",
              "      <td>C123</td>\n",
              "      <td>S</td>\n",
              "    </tr>\n",
              "    <tr>\n",
              "      <th>4</th>\n",
              "      <td>5</td>\n",
              "      <td>0</td>\n",
              "      <td>3</td>\n",
              "      <td>Allen, Mr. William Henry</td>\n",
              "      <td>male</td>\n",
              "      <td>35.0</td>\n",
              "      <td>0</td>\n",
              "      <td>0</td>\n",
              "      <td>373450</td>\n",
              "      <td>8.0500</td>\n",
              "      <td>NaN</td>\n",
              "      <td>S</td>\n",
              "    </tr>\n",
              "    <tr>\n",
              "      <th>5</th>\n",
              "      <td>6</td>\n",
              "      <td>0</td>\n",
              "      <td>3</td>\n",
              "      <td>Moran, Mr. James</td>\n",
              "      <td>male</td>\n",
              "      <td>NaN</td>\n",
              "      <td>0</td>\n",
              "      <td>0</td>\n",
              "      <td>330877</td>\n",
              "      <td>8.4583</td>\n",
              "      <td>NaN</td>\n",
              "      <td>Q</td>\n",
              "    </tr>\n",
              "    <tr>\n",
              "      <th>6</th>\n",
              "      <td>7</td>\n",
              "      <td>0</td>\n",
              "      <td>1</td>\n",
              "      <td>McCarthy, Mr. Timothy J</td>\n",
              "      <td>male</td>\n",
              "      <td>54.0</td>\n",
              "      <td>0</td>\n",
              "      <td>0</td>\n",
              "      <td>17463</td>\n",
              "      <td>51.8625</td>\n",
              "      <td>E46</td>\n",
              "      <td>S</td>\n",
              "    </tr>\n",
              "    <tr>\n",
              "      <th>7</th>\n",
              "      <td>8</td>\n",
              "      <td>0</td>\n",
              "      <td>3</td>\n",
              "      <td>Palsson, Master. Gosta Leonard</td>\n",
              "      <td>male</td>\n",
              "      <td>2.0</td>\n",
              "      <td>3</td>\n",
              "      <td>1</td>\n",
              "      <td>349909</td>\n",
              "      <td>21.0750</td>\n",
              "      <td>NaN</td>\n",
              "      <td>S</td>\n",
              "    </tr>\n",
              "    <tr>\n",
              "      <th>8</th>\n",
              "      <td>9</td>\n",
              "      <td>1</td>\n",
              "      <td>3</td>\n",
              "      <td>Johnson, Mrs. Oscar W (Elisabeth Vilhelmina Berg)</td>\n",
              "      <td>female</td>\n",
              "      <td>27.0</td>\n",
              "      <td>0</td>\n",
              "      <td>2</td>\n",
              "      <td>347742</td>\n",
              "      <td>11.1333</td>\n",
              "      <td>NaN</td>\n",
              "      <td>S</td>\n",
              "    </tr>\n",
              "    <tr>\n",
              "      <th>9</th>\n",
              "      <td>10</td>\n",
              "      <td>1</td>\n",
              "      <td>2</td>\n",
              "      <td>Nasser, Mrs. Nicholas (Adele Achem)</td>\n",
              "      <td>female</td>\n",
              "      <td>14.0</td>\n",
              "      <td>1</td>\n",
              "      <td>0</td>\n",
              "      <td>237736</td>\n",
              "      <td>30.0708</td>\n",
              "      <td>NaN</td>\n",
              "      <td>C</td>\n",
              "    </tr>\n",
              "  </tbody>\n",
              "</table>\n",
              "</div>"
            ],
            "text/plain": [
              "   PassengerId  Survived  Pclass  \\\n",
              "0            1         0       3   \n",
              "1            2         1       1   \n",
              "2            3         1       3   \n",
              "3            4         1       1   \n",
              "4            5         0       3   \n",
              "5            6         0       3   \n",
              "6            7         0       1   \n",
              "7            8         0       3   \n",
              "8            9         1       3   \n",
              "9           10         1       2   \n",
              "\n",
              "                                                Name     Sex   Age  SibSp  \\\n",
              "0                            Braund, Mr. Owen Harris    male  22.0      1   \n",
              "1  Cumings, Mrs. John Bradley (Florence Briggs Th...  female  38.0      1   \n",
              "2                             Heikkinen, Miss. Laina  female  26.0      0   \n",
              "3       Futrelle, Mrs. Jacques Heath (Lily May Peel)  female  35.0      1   \n",
              "4                           Allen, Mr. William Henry    male  35.0      0   \n",
              "5                                   Moran, Mr. James    male   NaN      0   \n",
              "6                            McCarthy, Mr. Timothy J    male  54.0      0   \n",
              "7                     Palsson, Master. Gosta Leonard    male   2.0      3   \n",
              "8  Johnson, Mrs. Oscar W (Elisabeth Vilhelmina Berg)  female  27.0      0   \n",
              "9                Nasser, Mrs. Nicholas (Adele Achem)  female  14.0      1   \n",
              "\n",
              "   Parch            Ticket     Fare Cabin Embarked  \n",
              "0      0         A/5 21171   7.2500   NaN        S  \n",
              "1      0          PC 17599  71.2833   C85        C  \n",
              "2      0  STON/O2. 3101282   7.9250   NaN        S  \n",
              "3      0            113803  53.1000  C123        S  \n",
              "4      0            373450   8.0500   NaN        S  \n",
              "5      0            330877   8.4583   NaN        Q  \n",
              "6      0             17463  51.8625   E46        S  \n",
              "7      1            349909  21.0750   NaN        S  \n",
              "8      2            347742  11.1333   NaN        S  \n",
              "9      0            237736  30.0708   NaN        C  "
            ]
          },
          "execution_count": 4,
          "metadata": {},
          "output_type": "execute_result"
        }
      ],
      "source": [
        "train_df.head(10)"
      ]
    },
    {
      "cell_type": "code",
      "execution_count": null,
      "id": "7d12a25d",
      "metadata": {
        "execution": {
          "iopub.execute_input": "2025-01-07T22:40:11.401789Z",
          "iopub.status.busy": "2025-01-07T22:40:11.401376Z",
          "iopub.status.idle": "2025-01-07T22:40:11.414858Z",
          "shell.execute_reply": "2025-01-07T22:40:11.413849Z"
        },
        "papermill": {
          "duration": 0.025322,
          "end_time": "2025-01-07T22:40:11.416517",
          "exception": false,
          "start_time": "2025-01-07T22:40:11.391195",
          "status": "completed"
        },
        "tags": [],
        "id": "7d12a25d",
        "outputId": "fa5fafbd-ded6-40c9-f380-342019c2da7b"
      },
      "outputs": [
        {
          "data": {
            "text/html": [
              "<div>\n",
              "<style scoped>\n",
              "    .dataframe tbody tr th:only-of-type {\n",
              "        vertical-align: middle;\n",
              "    }\n",
              "\n",
              "    .dataframe tbody tr th {\n",
              "        vertical-align: top;\n",
              "    }\n",
              "\n",
              "    .dataframe thead th {\n",
              "        text-align: right;\n",
              "    }\n",
              "</style>\n",
              "<table border=\"1\" class=\"dataframe\">\n",
              "  <thead>\n",
              "    <tr style=\"text-align: right;\">\n",
              "      <th></th>\n",
              "      <th>PassengerId</th>\n",
              "      <th>Survived</th>\n",
              "      <th>Pclass</th>\n",
              "      <th>Name</th>\n",
              "      <th>Sex</th>\n",
              "      <th>Age</th>\n",
              "      <th>SibSp</th>\n",
              "      <th>Parch</th>\n",
              "      <th>Ticket</th>\n",
              "      <th>Fare</th>\n",
              "      <th>Cabin</th>\n",
              "      <th>Embarked</th>\n",
              "    </tr>\n",
              "  </thead>\n",
              "  <tbody>\n",
              "    <tr>\n",
              "      <th>886</th>\n",
              "      <td>887</td>\n",
              "      <td>0</td>\n",
              "      <td>2</td>\n",
              "      <td>Montvila, Rev. Juozas</td>\n",
              "      <td>male</td>\n",
              "      <td>27.0</td>\n",
              "      <td>0</td>\n",
              "      <td>0</td>\n",
              "      <td>211536</td>\n",
              "      <td>13.00</td>\n",
              "      <td>NaN</td>\n",
              "      <td>S</td>\n",
              "    </tr>\n",
              "    <tr>\n",
              "      <th>887</th>\n",
              "      <td>888</td>\n",
              "      <td>1</td>\n",
              "      <td>1</td>\n",
              "      <td>Graham, Miss. Margaret Edith</td>\n",
              "      <td>female</td>\n",
              "      <td>19.0</td>\n",
              "      <td>0</td>\n",
              "      <td>0</td>\n",
              "      <td>112053</td>\n",
              "      <td>30.00</td>\n",
              "      <td>B42</td>\n",
              "      <td>S</td>\n",
              "    </tr>\n",
              "    <tr>\n",
              "      <th>888</th>\n",
              "      <td>889</td>\n",
              "      <td>0</td>\n",
              "      <td>3</td>\n",
              "      <td>Johnston, Miss. Catherine Helen \"Carrie\"</td>\n",
              "      <td>female</td>\n",
              "      <td>NaN</td>\n",
              "      <td>1</td>\n",
              "      <td>2</td>\n",
              "      <td>W./C. 6607</td>\n",
              "      <td>23.45</td>\n",
              "      <td>NaN</td>\n",
              "      <td>S</td>\n",
              "    </tr>\n",
              "    <tr>\n",
              "      <th>889</th>\n",
              "      <td>890</td>\n",
              "      <td>1</td>\n",
              "      <td>1</td>\n",
              "      <td>Behr, Mr. Karl Howell</td>\n",
              "      <td>male</td>\n",
              "      <td>26.0</td>\n",
              "      <td>0</td>\n",
              "      <td>0</td>\n",
              "      <td>111369</td>\n",
              "      <td>30.00</td>\n",
              "      <td>C148</td>\n",
              "      <td>C</td>\n",
              "    </tr>\n",
              "    <tr>\n",
              "      <th>890</th>\n",
              "      <td>891</td>\n",
              "      <td>0</td>\n",
              "      <td>3</td>\n",
              "      <td>Dooley, Mr. Patrick</td>\n",
              "      <td>male</td>\n",
              "      <td>32.0</td>\n",
              "      <td>0</td>\n",
              "      <td>0</td>\n",
              "      <td>370376</td>\n",
              "      <td>7.75</td>\n",
              "      <td>NaN</td>\n",
              "      <td>Q</td>\n",
              "    </tr>\n",
              "  </tbody>\n",
              "</table>\n",
              "</div>"
            ],
            "text/plain": [
              "     PassengerId  Survived  Pclass                                      Name  \\\n",
              "886          887         0       2                     Montvila, Rev. Juozas   \n",
              "887          888         1       1              Graham, Miss. Margaret Edith   \n",
              "888          889         0       3  Johnston, Miss. Catherine Helen \"Carrie\"   \n",
              "889          890         1       1                     Behr, Mr. Karl Howell   \n",
              "890          891         0       3                       Dooley, Mr. Patrick   \n",
              "\n",
              "        Sex   Age  SibSp  Parch      Ticket   Fare Cabin Embarked  \n",
              "886    male  27.0      0      0      211536  13.00   NaN        S  \n",
              "887  female  19.0      0      0      112053  30.00   B42        S  \n",
              "888  female   NaN      1      2  W./C. 6607  23.45   NaN        S  \n",
              "889    male  26.0      0      0      111369  30.00  C148        C  \n",
              "890    male  32.0      0      0      370376   7.75   NaN        Q  "
            ]
          },
          "execution_count": 5,
          "metadata": {},
          "output_type": "execute_result"
        }
      ],
      "source": [
        "train_df.tail()"
      ]
    },
    {
      "cell_type": "markdown",
      "id": "628d2147",
      "metadata": {
        "execution": {
          "iopub.execute_input": "2025-01-03T17:09:59.038705Z",
          "iopub.status.busy": "2025-01-03T17:09:59.038283Z",
          "iopub.status.idle": "2025-01-03T17:09:59.046704Z",
          "shell.execute_reply": "2025-01-03T17:09:59.045005Z",
          "shell.execute_reply.started": "2025-01-03T17:09:59.038670Z"
        },
        "papermill": {
          "duration": 0.009392,
          "end_time": "2025-01-07T22:40:11.435766",
          "exception": false,
          "start_time": "2025-01-07T22:40:11.426374",
          "status": "completed"
        },
        "tags": [],
        "id": "628d2147"
      },
      "source": [
        "# **Variable Description**\n",
        "\n",
        "\n",
        "1.  PassengerId: unique id number to each passenger,\n",
        "2. Survived: passenger survive(1) or died(0),\n",
        "3. Pclass: passenger class\n",
        "4. Name: name\n",
        "5. Sex: gender of passenger\n",
        "6. Age: age of passenger\n",
        "7. SibSp: number of siblings/spouses\n",
        "8. Parch: number of parents/children\n",
        "9. Ticket: ticket number\n",
        "10. Fare: amount of money spent on ticket\n",
        "11. Cabin: cabin category\n",
        "12. Embarked: port where passenger embarked (C = Cherbourg, Q = Queenstown, S = Southampton)"
      ]
    },
    {
      "cell_type": "markdown",
      "id": "1eb17f93",
      "metadata": {
        "execution": {
          "iopub.execute_input": "2025-01-03T14:20:42.430011Z",
          "iopub.status.busy": "2025-01-03T14:20:42.429617Z",
          "iopub.status.idle": "2025-01-03T14:20:42.466329Z",
          "shell.execute_reply": "2025-01-03T14:20:42.464957Z",
          "shell.execute_reply.started": "2025-01-03T14:20:42.429977Z"
        },
        "papermill": {
          "duration": 0.009193,
          "end_time": "2025-01-07T22:40:11.454452",
          "exception": false,
          "start_time": "2025-01-07T22:40:11.445259",
          "status": "completed"
        },
        "tags": [],
        "id": "1eb17f93"
      },
      "source": [
        "train_df.describe()"
      ]
    },
    {
      "cell_type": "code",
      "execution_count": null,
      "id": "9eb39908",
      "metadata": {
        "execution": {
          "iopub.execute_input": "2025-01-07T22:40:11.474642Z",
          "iopub.status.busy": "2025-01-07T22:40:11.474254Z",
          "iopub.status.idle": "2025-01-07T22:40:11.507216Z",
          "shell.execute_reply": "2025-01-07T22:40:11.505937Z"
        },
        "papermill": {
          "duration": 0.045219,
          "end_time": "2025-01-07T22:40:11.509171",
          "exception": false,
          "start_time": "2025-01-07T22:40:11.463952",
          "status": "completed"
        },
        "tags": [],
        "id": "9eb39908",
        "outputId": "abeb9339-2f43-4716-fbf9-5d1eb25982cf"
      },
      "outputs": [
        {
          "name": "stdout",
          "output_type": "stream",
          "text": [
            "<class 'pandas.core.frame.DataFrame'>\n",
            "RangeIndex: 891 entries, 0 to 890\n",
            "Data columns (total 12 columns):\n",
            " #   Column       Non-Null Count  Dtype  \n",
            "---  ------       --------------  -----  \n",
            " 0   PassengerId  891 non-null    int64  \n",
            " 1   Survived     891 non-null    int64  \n",
            " 2   Pclass       891 non-null    int64  \n",
            " 3   Name         891 non-null    object \n",
            " 4   Sex          891 non-null    object \n",
            " 5   Age          714 non-null    float64\n",
            " 6   SibSp        891 non-null    int64  \n",
            " 7   Parch        891 non-null    int64  \n",
            " 8   Ticket       891 non-null    object \n",
            " 9   Fare         891 non-null    float64\n",
            " 10  Cabin        204 non-null    object \n",
            " 11  Embarked     889 non-null    object \n",
            "dtypes: float64(2), int64(5), object(5)\n",
            "memory usage: 83.7+ KB\n",
            "--------------------------------------------------\n",
            "<class 'pandas.core.frame.DataFrame'>\n",
            "RangeIndex: 418 entries, 0 to 417\n",
            "Data columns (total 11 columns):\n",
            " #   Column       Non-Null Count  Dtype  \n",
            "---  ------       --------------  -----  \n",
            " 0   PassengerId  418 non-null    int64  \n",
            " 1   Pclass       418 non-null    int64  \n",
            " 2   Name         418 non-null    object \n",
            " 3   Sex          418 non-null    object \n",
            " 4   Age          332 non-null    float64\n",
            " 5   SibSp        418 non-null    int64  \n",
            " 6   Parch        418 non-null    int64  \n",
            " 7   Ticket       418 non-null    object \n",
            " 8   Fare         417 non-null    float64\n",
            " 9   Cabin        91 non-null     object \n",
            " 10  Embarked     418 non-null    object \n",
            "dtypes: float64(2), int64(4), object(5)\n",
            "memory usage: 36.0+ KB\n"
          ]
        }
      ],
      "source": [
        "train_df.info()\n",
        "print('-'*50)\n",
        "test_df.info()"
      ]
    },
    {
      "cell_type": "markdown",
      "id": "7309f9c9",
      "metadata": {
        "papermill": {
          "duration": 0.009206,
          "end_time": "2025-01-07T22:40:11.528239",
          "exception": false,
          "start_time": "2025-01-07T22:40:11.519033",
          "status": "completed"
        },
        "tags": [],
        "id": "7309f9c9"
      },
      "source": [
        "int64:[PassengerId,Parch,Survived,Pclass,SibSp]\n",
        "\n",
        "float64:[Age,Fare]\n",
        "\n",
        "object:[Name,Sex,Cabin,Embarked,Ticket]"
      ]
    },
    {
      "cell_type": "code",
      "execution_count": null,
      "id": "d9b21bbb",
      "metadata": {
        "execution": {
          "iopub.execute_input": "2025-01-07T22:40:11.548483Z",
          "iopub.status.busy": "2025-01-07T22:40:11.548156Z",
          "iopub.status.idle": "2025-01-07T22:40:11.553865Z",
          "shell.execute_reply": "2025-01-07T22:40:11.552857Z"
        },
        "papermill": {
          "duration": 0.017563,
          "end_time": "2025-01-07T22:40:11.555305",
          "exception": false,
          "start_time": "2025-01-07T22:40:11.537742",
          "status": "completed"
        },
        "tags": [],
        "id": "d9b21bbb",
        "outputId": "88f568b5-6ed0-41ba-cea3-d82479b1beb6"
      },
      "outputs": [
        {
          "data": {
            "text/plain": [
              "Index(['PassengerId', 'Survived', 'Pclass', 'Name', 'Sex', 'Age', 'SibSp',\n",
              "       'Parch', 'Ticket', 'Fare', 'Cabin', 'Embarked'],\n",
              "      dtype='object')"
            ]
          },
          "execution_count": 7,
          "metadata": {},
          "output_type": "execute_result"
        }
      ],
      "source": [
        "train_df.columns"
      ]
    },
    {
      "cell_type": "code",
      "execution_count": null,
      "id": "5aa9b470",
      "metadata": {
        "execution": {
          "iopub.execute_input": "2025-01-07T22:40:11.575702Z",
          "iopub.status.busy": "2025-01-07T22:40:11.575309Z",
          "iopub.status.idle": "2025-01-07T22:40:11.581446Z",
          "shell.execute_reply": "2025-01-07T22:40:11.580419Z"
        },
        "papermill": {
          "duration": 0.018209,
          "end_time": "2025-01-07T22:40:11.583213",
          "exception": false,
          "start_time": "2025-01-07T22:40:11.565004",
          "status": "completed"
        },
        "tags": [],
        "id": "5aa9b470",
        "outputId": "1c831bc1-558f-42dc-80d9-0adc8e6cd419"
      },
      "outputs": [
        {
          "data": {
            "text/plain": [
              "(891, 12)"
            ]
          },
          "execution_count": 8,
          "metadata": {},
          "output_type": "execute_result"
        }
      ],
      "source": [
        "train_df.shape"
      ]
    },
    {
      "cell_type": "code",
      "execution_count": null,
      "id": "ff883887",
      "metadata": {
        "execution": {
          "iopub.execute_input": "2025-01-07T22:40:11.604711Z",
          "iopub.status.busy": "2025-01-07T22:40:11.604302Z",
          "iopub.status.idle": "2025-01-07T22:40:11.612875Z",
          "shell.execute_reply": "2025-01-07T22:40:11.611710Z"
        },
        "papermill": {
          "duration": 0.02146,
          "end_time": "2025-01-07T22:40:11.614515",
          "exception": false,
          "start_time": "2025-01-07T22:40:11.593055",
          "status": "completed"
        },
        "tags": [],
        "id": "ff883887",
        "outputId": "d65d0cc2-8297-457d-ff68-0c2d1aa68e6d"
      },
      "outputs": [
        {
          "data": {
            "text/plain": [
              "Age         177\n",
              "Cabin       687\n",
              "Embarked      2\n",
              "dtype: int64"
            ]
          },
          "execution_count": 9,
          "metadata": {},
          "output_type": "execute_result"
        }
      ],
      "source": [
        "null_values=train_df.isnull().sum()\n",
        "null_values[null_values>0]"
      ]
    },
    {
      "cell_type": "code",
      "execution_count": null,
      "id": "5976b9b1",
      "metadata": {
        "execution": {
          "iopub.execute_input": "2025-01-07T22:40:11.635957Z",
          "iopub.status.busy": "2025-01-07T22:40:11.635542Z",
          "iopub.status.idle": "2025-01-07T22:40:12.231264Z",
          "shell.execute_reply": "2025-01-07T22:40:12.230160Z"
        },
        "papermill": {
          "duration": 0.608333,
          "end_time": "2025-01-07T22:40:12.233117",
          "exception": false,
          "start_time": "2025-01-07T22:40:11.624784",
          "status": "completed"
        },
        "tags": [],
        "id": "5976b9b1",
        "outputId": "a9c07c81-9d98-4569-c498-314469eb2af0"
      },
      "outputs": [
        {
          "data": {
            "text/plain": [
              "<Axes: >"
            ]
          },
          "execution_count": 10,
          "metadata": {},
          "output_type": "execute_result"
        },
        {
          "data": {
            "image/png": "[encoded data removed]",
            "text/plain": [
              "<Figure size 640x480 with 2 Axes>"
            ]
          },
          "metadata": {},
          "output_type": "display_data"
        }
      ],
      "source": [
        "sns.heatmap(train_df.isnull())"
      ]
    },
    {
      "cell_type": "markdown",
      "id": "42b5d5c2",
      "metadata": {
        "papermill": {
          "duration": 0.010533,
          "end_time": "2025-01-07T22:40:12.255034",
          "exception": false,
          "start_time": "2025-01-07T22:40:12.244501",
          "status": "completed"
        },
        "tags": [],
        "id": "42b5d5c2"
      },
      "source": [
        "# **Variable Description**"
      ]
    },
    {
      "cell_type": "markdown",
      "id": "f743717a",
      "metadata": {
        "papermill": {
          "duration": 0.010294,
          "end_time": "2025-01-07T22:40:12.275989",
          "exception": false,
          "start_time": "2025-01-07T22:40:12.265695",
          "status": "completed"
        },
        "tags": [],
        "id": "f743717a"
      },
      "source": [
        "Categorical Variable: Survived, Sex, Pclass, Embarked, Cabin, Name, Ticket, Sibsp and Parch\n",
        "\n",
        "Numerical Variable: Fare, age and passengerId"
      ]
    },
    {
      "cell_type": "code",
      "execution_count": null,
      "id": "8168472d",
      "metadata": {
        "execution": {
          "iopub.execute_input": "2025-01-07T22:40:12.298696Z",
          "iopub.status.busy": "2025-01-07T22:40:12.298317Z",
          "iopub.status.idle": "2025-01-07T22:40:12.304461Z",
          "shell.execute_reply": "2025-01-07T22:40:12.303487Z"
        },
        "papermill": {
          "duration": 0.019455,
          "end_time": "2025-01-07T22:40:12.306066",
          "exception": false,
          "start_time": "2025-01-07T22:40:12.286611",
          "status": "completed"
        },
        "tags": [],
        "id": "8168472d"
      },
      "outputs": [],
      "source": [
        "def bar_plot(variable):\n",
        "    # Get feature\n",
        "    var = train_df[variable]\n",
        "    # Count the number of occurrences for each category\n",
        "    varValue = var.value_counts()\n",
        "    # Visualize\n",
        "    plt.figure(figsize=(10, 5))\n",
        "    plt.bar(\n",
        "        varValue.index,\n",
        "        varValue,\n",
        "        color='skyblue',\n",
        "        edgecolor='black',\n",
        "        alpha=0.8\n",
        "    )\n",
        "    # Customize ticks and labels\n",
        "    plt.xticks(varValue.index, varValue.index.values, fontsize=12, rotation=45, color='darkblue')\n",
        "    plt.ylabel(\"Frequency\", fontsize=14, color='darkblue')\n",
        "    plt.title(f\"Distribution of {variable}\", fontsize=16, color='darkred')\n",
        "    plt.grid(axis='y', linestyle='--', alpha=0.6)  # Add a grid for better readability\n",
        "    plt.tight_layout()  # Adjust layout for better spacing\n",
        "    plt.show()\n",
        "\n",
        "    # Print variable details\n",
        "    print(f\"{variable}: \\n{varValue}\")\n"
      ]
    },
    {
      "cell_type": "code",
      "execution_count": null,
      "id": "f89dba04",
      "metadata": {
        "execution": {
          "iopub.execute_input": "2025-01-07T22:40:12.329508Z",
          "iopub.status.busy": "2025-01-07T22:40:12.329168Z",
          "iopub.status.idle": "2025-01-07T22:40:14.345922Z",
          "shell.execute_reply": "2025-01-07T22:40:14.344829Z"
        },
        "papermill": {
          "duration": 2.030996,
          "end_time": "2025-01-07T22:40:14.348258",
          "exception": false,
          "start_time": "2025-01-07T22:40:12.317262",
          "status": "completed"
        },
        "tags": [],
        "id": "f89dba04",
        "outputId": "765e0417-9b12-4de5-c388-9686b5e528f1"
      },
      "outputs": [
        {
          "data": {
            "image/png": "[encoded data removed]",
            "text/plain": [
              "<Figure size 1000x500 with 1 Axes>"
            ]
          },
          "metadata": {},
          "output_type": "display_data"
        },
        {
          "name": "stdout",
          "output_type": "stream",
          "text": [
            "Survived: \n",
            "Survived\n",
            "0    549\n",
            "1    342\n",
            "Name: count, dtype: int64\n"
          ]
        },
        {
          "data": {
            "image/png": "[encoded data removed]",
            "text/plain": [
              "<Figure size 1000x500 with 1 Axes>"
            ]
          },
          "metadata": {},
          "output_type": "display_data"
        },
        {
          "name": "stdout",
          "output_type": "stream",
          "text": [
            "Sex: \n",
            "Sex\n",
            "male      577\n",
            "female    314\n",
            "Name: count, dtype: int64\n"
          ]
        },
        {
          "data": {
            "image/png": "[encoded data removed]",
            "text/plain": [
              "<Figure size 1000x500 with 1 Axes>"
            ]
          },
          "metadata": {},
          "output_type": "display_data"
        },
        {
          "name": "stdout",
          "output_type": "stream",
          "text": [
            "Pclass: \n",
            "Pclass\n",
            "3    491\n",
            "1    216\n",
            "2    184\n",
            "Name: count, dtype: int64\n"
          ]
        },
        {
          "data": {
            "image/png": "[encoded data removed]",
            "text/plain": [
              "<Figure size 1000x500 with 1 Axes>"
            ]
          },
          "metadata": {},
          "output_type": "display_data"
        },
        {
          "name": "stdout",
          "output_type": "stream",
          "text": [
            "Embarked: \n",
            "Embarked\n",
            "S    644\n",
            "C    168\n",
            "Q     77\n",
            "Name: count, dtype: int64\n"
          ]
        },
        {
          "data": {
            "image/png": "[encoded data removed]",
            "text/plain": [
              "<Figure size 1000x500 with 1 Axes>"
            ]
          },
          "metadata": {},
          "output_type": "display_data"
        },
        {
          "name": "stdout",
          "output_type": "stream",
          "text": [
            "SibSp: \n",
            "SibSp\n",
            "0    608\n",
            "1    209\n",
            "2     28\n",
            "4     18\n",
            "3     16\n",
            "8      7\n",
            "5      5\n",
            "Name: count, dtype: int64\n"
          ]
        },
        {
          "data": {
            "image/png": "[encoded data removed]",
            "text/plain": [
              "<Figure size 1000x500 with 1 Axes>"
            ]
          },
          "metadata": {},
          "output_type": "display_data"
        },
        {
          "name": "stdout",
          "output_type": "stream",
          "text": [
            "Parch: \n",
            "Parch\n",
            "0    678\n",
            "1    118\n",
            "2     80\n",
            "5      5\n",
            "3      5\n",
            "4      4\n",
            "6      1\n",
            "Name: count, dtype: int64\n"
          ]
        }
      ],
      "source": [
        "categorical_col=[\"Survived\",\"Sex\",\"Pclass\",\"Embarked\",\"SibSp\", \"Parch\"]\n",
        "for col in categorical_col:\n",
        "    bar_plot(col)"
      ]
    },
    {
      "cell_type": "code",
      "execution_count": null,
      "id": "49b87000",
      "metadata": {
        "execution": {
          "iopub.execute_input": "2025-01-07T22:40:14.379555Z",
          "iopub.status.busy": "2025-01-07T22:40:14.379221Z",
          "iopub.status.idle": "2025-01-07T22:40:14.389983Z",
          "shell.execute_reply": "2025-01-07T22:40:14.388786Z"
        },
        "papermill": {
          "duration": 0.028533,
          "end_time": "2025-01-07T22:40:14.391777",
          "exception": false,
          "start_time": "2025-01-07T22:40:14.363244",
          "status": "completed"
        },
        "tags": [],
        "id": "49b87000",
        "outputId": "fbd00fbf-0cfe-4b67-b671-4c90db7f78aa"
      },
      "outputs": [
        {
          "name": "stdout",
          "output_type": "stream",
          "text": [
            "Cabin\n",
            "B96 B98        4\n",
            "G6             4\n",
            "C23 C25 C27    4\n",
            "C22 C26        3\n",
            "F33            3\n",
            "              ..\n",
            "E34            1\n",
            "C7             1\n",
            "C54            1\n",
            "E36            1\n",
            "C148           1\n",
            "Name: count, Length: 147, dtype: int64 \n",
            "\n",
            "Name\n",
            "Braund, Mr. Owen Harris                     1\n",
            "Boulos, Mr. Hanna                           1\n",
            "Frolicher-Stehli, Mr. Maxmillian            1\n",
            "Gilinski, Mr. Eliezer                       1\n",
            "Murdlin, Mr. Joseph                         1\n",
            "                                           ..\n",
            "Kelly, Miss. Anna Katherine \"Annie Kate\"    1\n",
            "McCoy, Mr. Bernard                          1\n",
            "Johnson, Mr. William Cahoone Jr             1\n",
            "Keane, Miss. Nora A                         1\n",
            "Dooley, Mr. Patrick                         1\n",
            "Name: count, Length: 891, dtype: int64 \n",
            "\n",
            "Ticket\n",
            "347082      7\n",
            "CA. 2343    7\n",
            "1601        7\n",
            "3101295     6\n",
            "CA 2144     6\n",
            "           ..\n",
            "9234        1\n",
            "19988       1\n",
            "2693        1\n",
            "PC 17612    1\n",
            "370376      1\n",
            "Name: count, Length: 681, dtype: int64 \n",
            "\n"
          ]
        }
      ],
      "source": [
        "cat_col2=[\"Cabin\", \"Name\", \"Ticket\"]\n",
        "for col in cat_col2:\n",
        "    print(\"{} \\n\".format(train_df[col].value_counts()))"
      ]
    },
    {
      "cell_type": "code",
      "execution_count": null,
      "id": "156c13e8",
      "metadata": {
        "execution": {
          "iopub.execute_input": "2025-01-07T22:40:14.423275Z",
          "iopub.status.busy": "2025-01-07T22:40:14.422922Z",
          "iopub.status.idle": "2025-01-07T22:40:14.428574Z",
          "shell.execute_reply": "2025-01-07T22:40:14.427686Z"
        },
        "papermill": {
          "duration": 0.022783,
          "end_time": "2025-01-07T22:40:14.430019",
          "exception": false,
          "start_time": "2025-01-07T22:40:14.407236",
          "status": "completed"
        },
        "tags": [],
        "id": "156c13e8"
      },
      "outputs": [],
      "source": [
        "def plot_hist(variable):\n",
        "    plt.figure(figsize=(10, 5))\n",
        "    plt.hist(\n",
        "        train_df[variable],\n",
        "        bins=30,\n",
        "        color='skyblue',\n",
        "        edgecolor='black',\n",
        "        alpha=0.7\n",
        "    )\n",
        "    plt.xlabel(variable, fontsize=14, color='darkblue')\n",
        "    plt.ylabel(\"Frequency\", fontsize=14, color='darkblue')\n",
        "    plt.title(\"{} Distribution\".format(variable), fontsize=16, color='darkred')\n",
        "    plt.grid(axis='y', linestyle='--', alpha=0.6)  # Add a grid for better readability\n",
        "    plt.tight_layout()  # Adjust layout for better spacing\n",
        "    plt.show()"
      ]
    },
    {
      "cell_type": "code",
      "execution_count": null,
      "id": "91831ff1",
      "metadata": {
        "execution": {
          "iopub.execute_input": "2025-01-07T22:40:14.460596Z",
          "iopub.status.busy": "2025-01-07T22:40:14.460253Z",
          "iopub.status.idle": "2025-01-07T22:40:15.888526Z",
          "shell.execute_reply": "2025-01-07T22:40:15.887318Z"
        },
        "papermill": {
          "duration": 1.446799,
          "end_time": "2025-01-07T22:40:15.891557",
          "exception": false,
          "start_time": "2025-01-07T22:40:14.444758",
          "status": "completed"
        },
        "tags": [],
        "id": "91831ff1",
        "outputId": "3f39fac1-09bb-4073-d995-5ae94be467ea"
      },
      "outputs": [
        {
          "data": {
            "image/png": "[encoded data removed]",
            "text/plain": [
              "<Figure size 1000x500 with 1 Axes>"
            ]
          },
          "metadata": {},
          "output_type": "display_data"
        },
        {
          "data": {
            "image/png": "[encoded data removed]",
            "text/plain": [
              "<Figure size 1000x500 with 1 Axes>"
            ]
          },
          "metadata": {},
          "output_type": "display_data"
        },
        {
          "data": {
            "image/png": "[encoded data removed]",
            "text/plain": [
              "<Figure size 1000x500 with 1 Axes>"
            ]
          },
          "metadata": {},
          "output_type": "display_data"
        }
      ],
      "source": [
        "numeric_col=[\"Fare\", \"Age\",\"PassengerId\"]\n",
        "for col in numeric_col:\n",
        "    plot_hist(col)"
      ]
    },
    {
      "cell_type": "code",
      "execution_count": null,
      "id": "4da8d8a7",
      "metadata": {
        "execution": {
          "iopub.execute_input": "2025-01-07T22:40:15.939301Z",
          "iopub.status.busy": "2025-01-07T22:40:15.938930Z",
          "iopub.status.idle": "2025-01-07T22:40:15.958862Z",
          "shell.execute_reply": "2025-01-07T22:40:15.957862Z"
        },
        "papermill": {
          "duration": 0.041304,
          "end_time": "2025-01-07T22:40:15.960428",
          "exception": false,
          "start_time": "2025-01-07T22:40:15.919124",
          "status": "completed"
        },
        "tags": [],
        "id": "4da8d8a7",
        "outputId": "de612e02-916f-4be8-d3e2-8f8b43be468d"
      },
      "outputs": [
        {
          "data": {
            "text/html": [
              "<div>\n",
              "<style scoped>\n",
              "    .dataframe tbody tr th:only-of-type {\n",
              "        vertical-align: middle;\n",
              "    }\n",
              "\n",
              "    .dataframe tbody tr th {\n",
              "        vertical-align: top;\n",
              "    }\n",
              "\n",
              "    .dataframe thead th {\n",
              "        text-align: right;\n",
              "    }\n",
              "</style>\n",
              "<table border=\"1\" class=\"dataframe\">\n",
              "  <thead>\n",
              "    <tr style=\"text-align: right;\">\n",
              "      <th></th>\n",
              "      <th>Pclass</th>\n",
              "      <th>Survived</th>\n",
              "    </tr>\n",
              "  </thead>\n",
              "  <tbody>\n",
              "    <tr>\n",
              "      <th>0</th>\n",
              "      <td>1</td>\n",
              "      <td>0.629630</td>\n",
              "    </tr>\n",
              "    <tr>\n",
              "      <th>1</th>\n",
              "      <td>2</td>\n",
              "      <td>0.472826</td>\n",
              "    </tr>\n",
              "    <tr>\n",
              "      <th>2</th>\n",
              "      <td>3</td>\n",
              "      <td>0.242363</td>\n",
              "    </tr>\n",
              "  </tbody>\n",
              "</table>\n",
              "</div>"
            ],
            "text/plain": [
              "   Pclass  Survived\n",
              "0       1  0.629630\n",
              "1       2  0.472826\n",
              "2       3  0.242363"
            ]
          },
          "execution_count": 16,
          "metadata": {},
          "output_type": "execute_result"
        }
      ],
      "source": [
        "# Pclass vs Survived\n",
        "train_df[[\"Pclass\",\"Survived\"]].groupby([\"Pclass\"],as_index=False).mean().sort_values(by=\"Survived\",ascending = False)"
      ]
    },
    {
      "cell_type": "code",
      "execution_count": null,
      "id": "c3802dbb",
      "metadata": {
        "execution": {
          "iopub.execute_input": "2025-01-07T22:40:16.001426Z",
          "iopub.status.busy": "2025-01-07T22:40:16.001087Z",
          "iopub.status.idle": "2025-01-07T22:40:16.018538Z",
          "shell.execute_reply": "2025-01-07T22:40:16.017023Z"
        },
        "papermill": {
          "duration": 0.039888,
          "end_time": "2025-01-07T22:40:16.020373",
          "exception": false,
          "start_time": "2025-01-07T22:40:15.980485",
          "status": "completed"
        },
        "tags": [],
        "id": "c3802dbb",
        "outputId": "28a2771f-2ca4-4590-f21c-c202482804d8"
      },
      "outputs": [
        {
          "data": {
            "text/html": [
              "<div>\n",
              "<style scoped>\n",
              "    .dataframe tbody tr th:only-of-type {\n",
              "        vertical-align: middle;\n",
              "    }\n",
              "\n",
              "    .dataframe tbody tr th {\n",
              "        vertical-align: top;\n",
              "    }\n",
              "\n",
              "    .dataframe thead th {\n",
              "        text-align: right;\n",
              "    }\n",
              "</style>\n",
              "<table border=\"1\" class=\"dataframe\">\n",
              "  <thead>\n",
              "    <tr style=\"text-align: right;\">\n",
              "      <th></th>\n",
              "      <th>Sex</th>\n",
              "      <th>Survived</th>\n",
              "    </tr>\n",
              "  </thead>\n",
              "  <tbody>\n",
              "    <tr>\n",
              "      <th>0</th>\n",
              "      <td>female</td>\n",
              "      <td>0.742038</td>\n",
              "    </tr>\n",
              "    <tr>\n",
              "      <th>1</th>\n",
              "      <td>male</td>\n",
              "      <td>0.188908</td>\n",
              "    </tr>\n",
              "  </tbody>\n",
              "</table>\n",
              "</div>"
            ],
            "text/plain": [
              "      Sex  Survived\n",
              "0  female  0.742038\n",
              "1    male  0.188908"
            ]
          },
          "execution_count": 17,
          "metadata": {},
          "output_type": "execute_result"
        }
      ],
      "source": [
        "#Sex vs Survived\n",
        "train_df[[\"Sex\",\"Survived\"]].groupby([\"Sex\"],as_index=False).mean().sort_values(by=\"Survived\",ascending = False)"
      ]
    },
    {
      "cell_type": "code",
      "execution_count": null,
      "id": "2f2d8e5d",
      "metadata": {
        "execution": {
          "iopub.execute_input": "2025-01-07T22:40:16.068005Z",
          "iopub.status.busy": "2025-01-07T22:40:16.067587Z",
          "iopub.status.idle": "2025-01-07T22:40:16.079267Z",
          "shell.execute_reply": "2025-01-07T22:40:16.078060Z"
        },
        "papermill": {
          "duration": 0.037735,
          "end_time": "2025-01-07T22:40:16.080988",
          "exception": false,
          "start_time": "2025-01-07T22:40:16.043253",
          "status": "completed"
        },
        "tags": [],
        "id": "2f2d8e5d",
        "outputId": "ce34227a-c2d2-4570-d50a-875d9285eb40"
      },
      "outputs": [
        {
          "data": {
            "text/html": [
              "<div>\n",
              "<style scoped>\n",
              "    .dataframe tbody tr th:only-of-type {\n",
              "        vertical-align: middle;\n",
              "    }\n",
              "\n",
              "    .dataframe tbody tr th {\n",
              "        vertical-align: top;\n",
              "    }\n",
              "\n",
              "    .dataframe thead th {\n",
              "        text-align: right;\n",
              "    }\n",
              "</style>\n",
              "<table border=\"1\" class=\"dataframe\">\n",
              "  <thead>\n",
              "    <tr style=\"text-align: right;\">\n",
              "      <th></th>\n",
              "      <th>SibSp</th>\n",
              "      <th>Survived</th>\n",
              "    </tr>\n",
              "  </thead>\n",
              "  <tbody>\n",
              "    <tr>\n",
              "      <th>1</th>\n",
              "      <td>1</td>\n",
              "      <td>0.535885</td>\n",
              "    </tr>\n",
              "    <tr>\n",
              "      <th>2</th>\n",
              "      <td>2</td>\n",
              "      <td>0.464286</td>\n",
              "    </tr>\n",
              "    <tr>\n",
              "      <th>0</th>\n",
              "      <td>0</td>\n",
              "      <td>0.345395</td>\n",
              "    </tr>\n",
              "    <tr>\n",
              "      <th>3</th>\n",
              "      <td>3</td>\n",
              "      <td>0.250000</td>\n",
              "    </tr>\n",
              "    <tr>\n",
              "      <th>4</th>\n",
              "      <td>4</td>\n",
              "      <td>0.166667</td>\n",
              "    </tr>\n",
              "    <tr>\n",
              "      <th>5</th>\n",
              "      <td>5</td>\n",
              "      <td>0.000000</td>\n",
              "    </tr>\n",
              "    <tr>\n",
              "      <th>6</th>\n",
              "      <td>8</td>\n",
              "      <td>0.000000</td>\n",
              "    </tr>\n",
              "  </tbody>\n",
              "</table>\n",
              "</div>"
            ],
            "text/plain": [
              "   SibSp  Survived\n",
              "1      1  0.535885\n",
              "2      2  0.464286\n",
              "0      0  0.345395\n",
              "3      3  0.250000\n",
              "4      4  0.166667\n",
              "5      5  0.000000\n",
              "6      8  0.000000"
            ]
          },
          "execution_count": 18,
          "metadata": {},
          "output_type": "execute_result"
        }
      ],
      "source": [
        "#SibSp vs Survived\n",
        "train_df[[\"SibSp\",\"Survived\"]].groupby([\"SibSp\"],as_index=False).mean().sort_values(by=\"Survived\",ascending = False)"
      ]
    },
    {
      "cell_type": "code",
      "execution_count": null,
      "id": "73fb3563",
      "metadata": {
        "execution": {
          "iopub.execute_input": "2025-01-07T22:40:16.116324Z",
          "iopub.status.busy": "2025-01-07T22:40:16.115974Z",
          "iopub.status.idle": "2025-01-07T22:40:16.127684Z",
          "shell.execute_reply": "2025-01-07T22:40:16.126562Z"
        },
        "papermill": {
          "duration": 0.031436,
          "end_time": "2025-01-07T22:40:16.129244",
          "exception": false,
          "start_time": "2025-01-07T22:40:16.097808",
          "status": "completed"
        },
        "tags": [],
        "id": "73fb3563",
        "outputId": "3cb66405-55aa-4df2-b88b-8cf875a89877"
      },
      "outputs": [
        {
          "data": {
            "text/html": [
              "<div>\n",
              "<style scoped>\n",
              "    .dataframe tbody tr th:only-of-type {\n",
              "        vertical-align: middle;\n",
              "    }\n",
              "\n",
              "    .dataframe tbody tr th {\n",
              "        vertical-align: top;\n",
              "    }\n",
              "\n",
              "    .dataframe thead th {\n",
              "        text-align: right;\n",
              "    }\n",
              "</style>\n",
              "<table border=\"1\" class=\"dataframe\">\n",
              "  <thead>\n",
              "    <tr style=\"text-align: right;\">\n",
              "      <th></th>\n",
              "      <th>Parch</th>\n",
              "      <th>Survived</th>\n",
              "    </tr>\n",
              "  </thead>\n",
              "  <tbody>\n",
              "    <tr>\n",
              "      <th>3</th>\n",
              "      <td>3</td>\n",
              "      <td>0.600000</td>\n",
              "    </tr>\n",
              "    <tr>\n",
              "      <th>1</th>\n",
              "      <td>1</td>\n",
              "      <td>0.550847</td>\n",
              "    </tr>\n",
              "    <tr>\n",
              "      <th>2</th>\n",
              "      <td>2</td>\n",
              "      <td>0.500000</td>\n",
              "    </tr>\n",
              "    <tr>\n",
              "      <th>0</th>\n",
              "      <td>0</td>\n",
              "      <td>0.343658</td>\n",
              "    </tr>\n",
              "    <tr>\n",
              "      <th>5</th>\n",
              "      <td>5</td>\n",
              "      <td>0.200000</td>\n",
              "    </tr>\n",
              "    <tr>\n",
              "      <th>4</th>\n",
              "      <td>4</td>\n",
              "      <td>0.000000</td>\n",
              "    </tr>\n",
              "    <tr>\n",
              "      <th>6</th>\n",
              "      <td>6</td>\n",
              "      <td>0.000000</td>\n",
              "    </tr>\n",
              "  </tbody>\n",
              "</table>\n",
              "</div>"
            ],
            "text/plain": [
              "   Parch  Survived\n",
              "3      3  0.600000\n",
              "1      1  0.550847\n",
              "2      2  0.500000\n",
              "0      0  0.343658\n",
              "5      5  0.200000\n",
              "4      4  0.000000\n",
              "6      6  0.000000"
            ]
          },
          "execution_count": 19,
          "metadata": {},
          "output_type": "execute_result"
        }
      ],
      "source": [
        "# Parch vs Survived\n",
        "train_df[[\"Parch\",\"Survived\"]].groupby([\"Parch\"], as_index = False).mean().sort_values(by=\"Survived\",ascending = False)"
      ]
    },
    {
      "cell_type": "code",
      "execution_count": null,
      "id": "67fc9160",
      "metadata": {
        "execution": {
          "iopub.execute_input": "2025-01-07T22:40:16.165226Z",
          "iopub.status.busy": "2025-01-07T22:40:16.164860Z",
          "iopub.status.idle": "2025-01-07T22:40:16.173261Z",
          "shell.execute_reply": "2025-01-07T22:40:16.171865Z"
        },
        "papermill": {
          "duration": 0.029071,
          "end_time": "2025-01-07T22:40:16.175444",
          "exception": false,
          "start_time": "2025-01-07T22:40:16.146373",
          "status": "completed"
        },
        "tags": [],
        "id": "67fc9160"
      },
      "outputs": [],
      "source": [
        "def detect_outliers(df, features):\n",
        "    outlier_indices = []\n",
        "\n",
        "    for c in features:\n",
        "        # 1st quartile\n",
        "        Q1 = np.percentile(df[c], 25)\n",
        "        # 3rd quartile\n",
        "        Q3 = np.percentile(df[c], 75)\n",
        "        # IQR\n",
        "        IQR = Q3 - Q1\n",
        "        # Outlier step\n",
        "        outlier_step = IQR * 1.5\n",
        "        # Detect outliers and their indices\n",
        "        outlier_list_col = df[(df[c] < Q1 - outlier_step) | (df[c] > Q3 + outlier_step)].index\n",
        "        # Store indices\n",
        "        outlier_indices.extend(outlier_list_col)\n",
        "\n",
        "    # Count occurrences of each index\n",
        "    outlier_indices = Counter(outlier_indices)\n",
        "    # Keep indices that appear more than twice\n",
        "    multiple_outliers = [i for i, v in outlier_indices.items() if v > 2]\n",
        "\n",
        "    return multiple_outliers\n"
      ]
    },
    {
      "cell_type": "code",
      "execution_count": null,
      "id": "79d67f80",
      "metadata": {
        "execution": {
          "iopub.execute_input": "2025-01-07T22:40:16.228672Z",
          "iopub.status.busy": "2025-01-07T22:40:16.228307Z",
          "iopub.status.idle": "2025-01-07T22:40:16.249359Z",
          "shell.execute_reply": "2025-01-07T22:40:16.248305Z"
        },
        "papermill": {
          "duration": 0.048181,
          "end_time": "2025-01-07T22:40:16.251034",
          "exception": false,
          "start_time": "2025-01-07T22:40:16.202853",
          "status": "completed"
        },
        "tags": [],
        "id": "79d67f80",
        "outputId": "5e928dfa-ae1e-4346-ee3c-604e6ef7b76d"
      },
      "outputs": [
        {
          "data": {
            "text/html": [
              "<div>\n",
              "<style scoped>\n",
              "    .dataframe tbody tr th:only-of-type {\n",
              "        vertical-align: middle;\n",
              "    }\n",
              "\n",
              "    .dataframe tbody tr th {\n",
              "        vertical-align: top;\n",
              "    }\n",
              "\n",
              "    .dataframe thead th {\n",
              "        text-align: right;\n",
              "    }\n",
              "</style>\n",
              "<table border=\"1\" class=\"dataframe\">\n",
              "  <thead>\n",
              "    <tr style=\"text-align: right;\">\n",
              "      <th></th>\n",
              "      <th>PassengerId</th>\n",
              "      <th>Survived</th>\n",
              "      <th>Pclass</th>\n",
              "      <th>Name</th>\n",
              "      <th>Sex</th>\n",
              "      <th>Age</th>\n",
              "      <th>SibSp</th>\n",
              "      <th>Parch</th>\n",
              "      <th>Ticket</th>\n",
              "      <th>Fare</th>\n",
              "      <th>Cabin</th>\n",
              "      <th>Embarked</th>\n",
              "    </tr>\n",
              "  </thead>\n",
              "  <tbody>\n",
              "    <tr>\n",
              "      <th>27</th>\n",
              "      <td>28</td>\n",
              "      <td>0</td>\n",
              "      <td>1</td>\n",
              "      <td>Fortune, Mr. Charles Alexander</td>\n",
              "      <td>male</td>\n",
              "      <td>19.0</td>\n",
              "      <td>3</td>\n",
              "      <td>2</td>\n",
              "      <td>19950</td>\n",
              "      <td>263.00</td>\n",
              "      <td>C23 C25 C27</td>\n",
              "      <td>S</td>\n",
              "    </tr>\n",
              "    <tr>\n",
              "      <th>88</th>\n",
              "      <td>89</td>\n",
              "      <td>1</td>\n",
              "      <td>1</td>\n",
              "      <td>Fortune, Miss. Mabel Helen</td>\n",
              "      <td>female</td>\n",
              "      <td>23.0</td>\n",
              "      <td>3</td>\n",
              "      <td>2</td>\n",
              "      <td>19950</td>\n",
              "      <td>263.00</td>\n",
              "      <td>C23 C25 C27</td>\n",
              "      <td>S</td>\n",
              "    </tr>\n",
              "    <tr>\n",
              "      <th>159</th>\n",
              "      <td>160</td>\n",
              "      <td>0</td>\n",
              "      <td>3</td>\n",
              "      <td>Sage, Master. Thomas Henry</td>\n",
              "      <td>male</td>\n",
              "      <td>NaN</td>\n",
              "      <td>8</td>\n",
              "      <td>2</td>\n",
              "      <td>CA. 2343</td>\n",
              "      <td>69.55</td>\n",
              "      <td>NaN</td>\n",
              "      <td>S</td>\n",
              "    </tr>\n",
              "    <tr>\n",
              "      <th>180</th>\n",
              "      <td>181</td>\n",
              "      <td>0</td>\n",
              "      <td>3</td>\n",
              "      <td>Sage, Miss. Constance Gladys</td>\n",
              "      <td>female</td>\n",
              "      <td>NaN</td>\n",
              "      <td>8</td>\n",
              "      <td>2</td>\n",
              "      <td>CA. 2343</td>\n",
              "      <td>69.55</td>\n",
              "      <td>NaN</td>\n",
              "      <td>S</td>\n",
              "    </tr>\n",
              "    <tr>\n",
              "      <th>201</th>\n",
              "      <td>202</td>\n",
              "      <td>0</td>\n",
              "      <td>3</td>\n",
              "      <td>Sage, Mr. Frederick</td>\n",
              "      <td>male</td>\n",
              "      <td>NaN</td>\n",
              "      <td>8</td>\n",
              "      <td>2</td>\n",
              "      <td>CA. 2343</td>\n",
              "      <td>69.55</td>\n",
              "      <td>NaN</td>\n",
              "      <td>S</td>\n",
              "    </tr>\n",
              "    <tr>\n",
              "      <th>324</th>\n",
              "      <td>325</td>\n",
              "      <td>0</td>\n",
              "      <td>3</td>\n",
              "      <td>Sage, Mr. George John Jr</td>\n",
              "      <td>male</td>\n",
              "      <td>NaN</td>\n",
              "      <td>8</td>\n",
              "      <td>2</td>\n",
              "      <td>CA. 2343</td>\n",
              "      <td>69.55</td>\n",
              "      <td>NaN</td>\n",
              "      <td>S</td>\n",
              "    </tr>\n",
              "    <tr>\n",
              "      <th>341</th>\n",
              "      <td>342</td>\n",
              "      <td>1</td>\n",
              "      <td>1</td>\n",
              "      <td>Fortune, Miss. Alice Elizabeth</td>\n",
              "      <td>female</td>\n",
              "      <td>24.0</td>\n",
              "      <td>3</td>\n",
              "      <td>2</td>\n",
              "      <td>19950</td>\n",
              "      <td>263.00</td>\n",
              "      <td>C23 C25 C27</td>\n",
              "      <td>S</td>\n",
              "    </tr>\n",
              "    <tr>\n",
              "      <th>792</th>\n",
              "      <td>793</td>\n",
              "      <td>0</td>\n",
              "      <td>3</td>\n",
              "      <td>Sage, Miss. Stella Anna</td>\n",
              "      <td>female</td>\n",
              "      <td>NaN</td>\n",
              "      <td>8</td>\n",
              "      <td>2</td>\n",
              "      <td>CA. 2343</td>\n",
              "      <td>69.55</td>\n",
              "      <td>NaN</td>\n",
              "      <td>S</td>\n",
              "    </tr>\n",
              "    <tr>\n",
              "      <th>846</th>\n",
              "      <td>847</td>\n",
              "      <td>0</td>\n",
              "      <td>3</td>\n",
              "      <td>Sage, Mr. Douglas Bullen</td>\n",
              "      <td>male</td>\n",
              "      <td>NaN</td>\n",
              "      <td>8</td>\n",
              "      <td>2</td>\n",
              "      <td>CA. 2343</td>\n",
              "      <td>69.55</td>\n",
              "      <td>NaN</td>\n",
              "      <td>S</td>\n",
              "    </tr>\n",
              "    <tr>\n",
              "      <th>863</th>\n",
              "      <td>864</td>\n",
              "      <td>0</td>\n",
              "      <td>3</td>\n",
              "      <td>Sage, Miss. Dorothy Edith \"Dolly\"</td>\n",
              "      <td>female</td>\n",
              "      <td>NaN</td>\n",
              "      <td>8</td>\n",
              "      <td>2</td>\n",
              "      <td>CA. 2343</td>\n",
              "      <td>69.55</td>\n",
              "      <td>NaN</td>\n",
              "      <td>S</td>\n",
              "    </tr>\n",
              "  </tbody>\n",
              "</table>\n",
              "</div>"
            ],
            "text/plain": [
              "     PassengerId  Survived  Pclass                               Name     Sex  \\\n",
              "27            28         0       1     Fortune, Mr. Charles Alexander    male   \n",
              "88            89         1       1         Fortune, Miss. Mabel Helen  female   \n",
              "159          160         0       3         Sage, Master. Thomas Henry    male   \n",
              "180          181         0       3       Sage, Miss. Constance Gladys  female   \n",
              "201          202         0       3                Sage, Mr. Frederick    male   \n",
              "324          325         0       3           Sage, Mr. George John Jr    male   \n",
              "341          342         1       1     Fortune, Miss. Alice Elizabeth  female   \n",
              "792          793         0       3            Sage, Miss. Stella Anna  female   \n",
              "846          847         0       3           Sage, Mr. Douglas Bullen    male   \n",
              "863          864         0       3  Sage, Miss. Dorothy Edith \"Dolly\"  female   \n",
              "\n",
              "      Age  SibSp  Parch    Ticket    Fare        Cabin Embarked  \n",
              "27   19.0      3      2     19950  263.00  C23 C25 C27        S  \n",
              "88   23.0      3      2     19950  263.00  C23 C25 C27        S  \n",
              "159   NaN      8      2  CA. 2343   69.55          NaN        S  \n",
              "180   NaN      8      2  CA. 2343   69.55          NaN        S  \n",
              "201   NaN      8      2  CA. 2343   69.55          NaN        S  \n",
              "324   NaN      8      2  CA. 2343   69.55          NaN        S  \n",
              "341  24.0      3      2     19950  263.00  C23 C25 C27        S  \n",
              "792   NaN      8      2  CA. 2343   69.55          NaN        S  \n",
              "846   NaN      8      2  CA. 2343   69.55          NaN        S  \n",
              "863   NaN      8      2  CA. 2343   69.55          NaN        S  "
            ]
          },
          "execution_count": 21,
          "metadata": {},
          "output_type": "execute_result"
        }
      ],
      "source": [
        "train_df.loc[detect_outliers(train_df,[\"Age\",\"SibSp\",\"Parch\",\"Fare\"])]"
      ]
    },
    {
      "cell_type": "code",
      "execution_count": null,
      "id": "7c052415",
      "metadata": {
        "execution": {
          "iopub.execute_input": "2025-01-07T22:40:16.286804Z",
          "iopub.status.busy": "2025-01-07T22:40:16.286419Z",
          "iopub.status.idle": "2025-01-07T22:40:16.295901Z",
          "shell.execute_reply": "2025-01-07T22:40:16.295085Z"
        },
        "papermill": {
          "duration": 0.029043,
          "end_time": "2025-01-07T22:40:16.297608",
          "exception": false,
          "start_time": "2025-01-07T22:40:16.268565",
          "status": "completed"
        },
        "tags": [],
        "id": "7c052415"
      },
      "outputs": [],
      "source": [
        "#drop outliers\n",
        "train_df = train_df.drop(detect_outliers(train_df,[\"Age\",\"SibSp\",\"Parch\",\"Fare\"]),axis = 0).reset_index(drop = True)"
      ]
    },
    {
      "cell_type": "code",
      "execution_count": null,
      "id": "e196025f",
      "metadata": {
        "execution": {
          "iopub.execute_input": "2025-01-07T22:40:16.334006Z",
          "iopub.status.busy": "2025-01-07T22:40:16.333598Z",
          "iopub.status.idle": "2025-01-07T22:40:16.343774Z",
          "shell.execute_reply": "2025-01-07T22:40:16.342436Z"
        },
        "papermill": {
          "duration": 0.030436,
          "end_time": "2025-01-07T22:40:16.345519",
          "exception": false,
          "start_time": "2025-01-07T22:40:16.315083",
          "status": "completed"
        },
        "tags": [],
        "id": "e196025f",
        "outputId": "cb473308-e2ab-4599-b064-a555901b3921"
      },
      "outputs": [
        {
          "name": "stdout",
          "output_type": "stream",
          "text": [
            "<class 'pandas.core.frame.DataFrame'>\n",
            "RangeIndex: 881 entries, 0 to 880\n",
            "Data columns (total 12 columns):\n",
            " #   Column       Non-Null Count  Dtype  \n",
            "---  ------       --------------  -----  \n",
            " 0   PassengerId  881 non-null    int64  \n",
            " 1   Survived     881 non-null    int64  \n",
            " 2   Pclass       881 non-null    int64  \n",
            " 3   Name         881 non-null    object \n",
            " 4   Sex          881 non-null    object \n",
            " 5   Age          711 non-null    float64\n",
            " 6   SibSp        881 non-null    int64  \n",
            " 7   Parch        881 non-null    int64  \n",
            " 8   Ticket       881 non-null    object \n",
            " 9   Fare         881 non-null    float64\n",
            " 10  Cabin        201 non-null    object \n",
            " 11  Embarked     879 non-null    object \n",
            "dtypes: float64(2), int64(5), object(5)\n",
            "memory usage: 82.7+ KB\n"
          ]
        }
      ],
      "source": [
        "train_df.info()"
      ]
    },
    {
      "cell_type": "code",
      "execution_count": null,
      "id": "a1955e56",
      "metadata": {
        "execution": {
          "iopub.execute_input": "2025-01-07T22:40:16.381662Z",
          "iopub.status.busy": "2025-01-07T22:40:16.381313Z",
          "iopub.status.idle": "2025-01-07T22:40:16.388464Z",
          "shell.execute_reply": "2025-01-07T22:40:16.387462Z"
        },
        "papermill": {
          "duration": 0.026954,
          "end_time": "2025-01-07T22:40:16.390079",
          "exception": false,
          "start_time": "2025-01-07T22:40:16.363125",
          "status": "completed"
        },
        "tags": [],
        "id": "a1955e56",
        "outputId": "0fce163a-a0f7-48c1-ce9e-58afbec49508"
      },
      "outputs": [
        {
          "data": {
            "text/plain": [
              "PassengerId      0\n",
              "Survived         0\n",
              "Pclass           0\n",
              "Name             0\n",
              "Sex              0\n",
              "Age            170\n",
              "SibSp            0\n",
              "Parch            0\n",
              "Ticket           0\n",
              "Fare             0\n",
              "Cabin          680\n",
              "Embarked         2\n",
              "dtype: int64"
            ]
          },
          "execution_count": 24,
          "metadata": {},
          "output_type": "execute_result"
        }
      ],
      "source": [
        "train_df.isnull().sum()"
      ]
    },
    {
      "cell_type": "code",
      "execution_count": null,
      "id": "c38e896d",
      "metadata": {
        "execution": {
          "iopub.execute_input": "2025-01-07T22:40:16.426818Z",
          "iopub.status.busy": "2025-01-07T22:40:16.426410Z",
          "iopub.status.idle": "2025-01-07T22:40:16.433776Z",
          "shell.execute_reply": "2025-01-07T22:40:16.432864Z"
        },
        "papermill": {
          "duration": 0.027589,
          "end_time": "2025-01-07T22:40:16.435397",
          "exception": false,
          "start_time": "2025-01-07T22:40:16.407808",
          "status": "completed"
        },
        "tags": [],
        "id": "c38e896d"
      },
      "outputs": [],
      "source": [
        "train_dflen=len(train_df)\n",
        "train_df=pd.concat([train_df,test_df],axis=0).reset_index(drop = True)"
      ]
    },
    {
      "cell_type": "code",
      "execution_count": null,
      "id": "7f7fb568",
      "metadata": {
        "execution": {
          "iopub.execute_input": "2025-01-07T22:40:16.472618Z",
          "iopub.status.busy": "2025-01-07T22:40:16.472235Z",
          "iopub.status.idle": "2025-01-07T22:40:16.486860Z",
          "shell.execute_reply": "2025-01-07T22:40:16.485768Z"
        },
        "papermill": {
          "duration": 0.035341,
          "end_time": "2025-01-07T22:40:16.488543",
          "exception": false,
          "start_time": "2025-01-07T22:40:16.453202",
          "status": "completed"
        },
        "tags": [],
        "id": "7f7fb568",
        "outputId": "036796c1-dff4-42bc-fe96-977a9ac53150"
      },
      "outputs": [
        {
          "data": {
            "text/html": [
              "<div>\n",
              "<style scoped>\n",
              "    .dataframe tbody tr th:only-of-type {\n",
              "        vertical-align: middle;\n",
              "    }\n",
              "\n",
              "    .dataframe tbody tr th {\n",
              "        vertical-align: top;\n",
              "    }\n",
              "\n",
              "    .dataframe thead th {\n",
              "        text-align: right;\n",
              "    }\n",
              "</style>\n",
              "<table border=\"1\" class=\"dataframe\">\n",
              "  <thead>\n",
              "    <tr style=\"text-align: right;\">\n",
              "      <th></th>\n",
              "      <th>PassengerId</th>\n",
              "      <th>Survived</th>\n",
              "      <th>Pclass</th>\n",
              "      <th>Name</th>\n",
              "      <th>Sex</th>\n",
              "      <th>Age</th>\n",
              "      <th>SibSp</th>\n",
              "      <th>Parch</th>\n",
              "      <th>Ticket</th>\n",
              "      <th>Fare</th>\n",
              "      <th>Cabin</th>\n",
              "      <th>Embarked</th>\n",
              "    </tr>\n",
              "  </thead>\n",
              "  <tbody>\n",
              "    <tr>\n",
              "      <th>0</th>\n",
              "      <td>1</td>\n",
              "      <td>0.0</td>\n",
              "      <td>3</td>\n",
              "      <td>Braund, Mr. Owen Harris</td>\n",
              "      <td>male</td>\n",
              "      <td>22.0</td>\n",
              "      <td>1</td>\n",
              "      <td>0</td>\n",
              "      <td>A/5 21171</td>\n",
              "      <td>7.2500</td>\n",
              "      <td>NaN</td>\n",
              "      <td>S</td>\n",
              "    </tr>\n",
              "    <tr>\n",
              "      <th>1</th>\n",
              "      <td>2</td>\n",
              "      <td>1.0</td>\n",
              "      <td>1</td>\n",
              "      <td>Cumings, Mrs. John Bradley (Florence Briggs Th...</td>\n",
              "      <td>female</td>\n",
              "      <td>38.0</td>\n",
              "      <td>1</td>\n",
              "      <td>0</td>\n",
              "      <td>PC 17599</td>\n",
              "      <td>71.2833</td>\n",
              "      <td>C85</td>\n",
              "      <td>C</td>\n",
              "    </tr>\n",
              "    <tr>\n",
              "      <th>2</th>\n",
              "      <td>3</td>\n",
              "      <td>1.0</td>\n",
              "      <td>3</td>\n",
              "      <td>Heikkinen, Miss. Laina</td>\n",
              "      <td>female</td>\n",
              "      <td>26.0</td>\n",
              "      <td>0</td>\n",
              "      <td>0</td>\n",
              "      <td>STON/O2. 3101282</td>\n",
              "      <td>7.9250</td>\n",
              "      <td>NaN</td>\n",
              "      <td>S</td>\n",
              "    </tr>\n",
              "    <tr>\n",
              "      <th>3</th>\n",
              "      <td>4</td>\n",
              "      <td>1.0</td>\n",
              "      <td>1</td>\n",
              "      <td>Futrelle, Mrs. Jacques Heath (Lily May Peel)</td>\n",
              "      <td>female</td>\n",
              "      <td>35.0</td>\n",
              "      <td>1</td>\n",
              "      <td>0</td>\n",
              "      <td>113803</td>\n",
              "      <td>53.1000</td>\n",
              "      <td>C123</td>\n",
              "      <td>S</td>\n",
              "    </tr>\n",
              "    <tr>\n",
              "      <th>4</th>\n",
              "      <td>5</td>\n",
              "      <td>0.0</td>\n",
              "      <td>3</td>\n",
              "      <td>Allen, Mr. William Henry</td>\n",
              "      <td>male</td>\n",
              "      <td>35.0</td>\n",
              "      <td>0</td>\n",
              "      <td>0</td>\n",
              "      <td>373450</td>\n",
              "      <td>8.0500</td>\n",
              "      <td>NaN</td>\n",
              "      <td>S</td>\n",
              "    </tr>\n",
              "  </tbody>\n",
              "</table>\n",
              "</div>"
            ],
            "text/plain": [
              "   PassengerId  Survived  Pclass  \\\n",
              "0            1       0.0       3   \n",
              "1            2       1.0       1   \n",
              "2            3       1.0       3   \n",
              "3            4       1.0       1   \n",
              "4            5       0.0       3   \n",
              "\n",
              "                                                Name     Sex   Age  SibSp  \\\n",
              "0                            Braund, Mr. Owen Harris    male  22.0      1   \n",
              "1  Cumings, Mrs. John Bradley (Florence Briggs Th...  female  38.0      1   \n",
              "2                             Heikkinen, Miss. Laina  female  26.0      0   \n",
              "3       Futrelle, Mrs. Jacques Heath (Lily May Peel)  female  35.0      1   \n",
              "4                           Allen, Mr. William Henry    male  35.0      0   \n",
              "\n",
              "   Parch            Ticket     Fare Cabin Embarked  \n",
              "0      0         A/5 21171   7.2500   NaN        S  \n",
              "1      0          PC 17599  71.2833   C85        C  \n",
              "2      0  STON/O2. 3101282   7.9250   NaN        S  \n",
              "3      0            113803  53.1000  C123        S  \n",
              "4      0            373450   8.0500   NaN        S  "
            ]
          },
          "execution_count": 26,
          "metadata": {},
          "output_type": "execute_result"
        }
      ],
      "source": [
        "train_df.head()"
      ]
    },
    {
      "cell_type": "code",
      "execution_count": null,
      "id": "12155334",
      "metadata": {
        "execution": {
          "iopub.execute_input": "2025-01-07T22:40:16.525928Z",
          "iopub.status.busy": "2025-01-07T22:40:16.525512Z",
          "iopub.status.idle": "2025-01-07T22:40:16.533149Z",
          "shell.execute_reply": "2025-01-07T22:40:16.532280Z"
        },
        "papermill": {
          "duration": 0.027873,
          "end_time": "2025-01-07T22:40:16.534705",
          "exception": false,
          "start_time": "2025-01-07T22:40:16.506832",
          "status": "completed"
        },
        "tags": [],
        "id": "12155334",
        "outputId": "6deefe4c-327d-4d12-c1ea-675a0138a58e"
      },
      "outputs": [
        {
          "data": {
            "text/plain": [
              "PassengerId       0\n",
              "Survived        418\n",
              "Pclass            0\n",
              "Name              0\n",
              "Sex               0\n",
              "Age             256\n",
              "SibSp             0\n",
              "Parch             0\n",
              "Ticket            0\n",
              "Fare              1\n",
              "Cabin          1007\n",
              "Embarked          2\n",
              "dtype: int64"
            ]
          },
          "execution_count": 27,
          "metadata": {},
          "output_type": "execute_result"
        }
      ],
      "source": [
        "train_df.isnull().sum()"
      ]
    },
    {
      "cell_type": "code",
      "execution_count": null,
      "id": "3b0084f5",
      "metadata": {
        "execution": {
          "iopub.execute_input": "2025-01-07T22:40:16.571695Z",
          "iopub.status.busy": "2025-01-07T22:40:16.571305Z",
          "iopub.status.idle": "2025-01-07T22:40:16.578224Z",
          "shell.execute_reply": "2025-01-07T22:40:16.577267Z"
        },
        "papermill": {
          "duration": 0.027,
          "end_time": "2025-01-07T22:40:16.579783",
          "exception": false,
          "start_time": "2025-01-07T22:40:16.552783",
          "status": "completed"
        },
        "tags": [],
        "id": "3b0084f5",
        "outputId": "78a0556a-c660-47fb-e80e-759a5c8b9d7f"
      },
      "outputs": [
        {
          "data": {
            "text/plain": [
              "Embarked\n",
              "S    904\n",
              "C    270\n",
              "Q    123\n",
              "Name: count, dtype: int64"
            ]
          },
          "execution_count": 28,
          "metadata": {},
          "output_type": "execute_result"
        }
      ],
      "source": [
        "train_df['Embarked'].value_counts()"
      ]
    },
    {
      "cell_type": "code",
      "execution_count": null,
      "id": "b8af94d3",
      "metadata": {
        "execution": {
          "iopub.execute_input": "2025-01-07T22:40:16.617143Z",
          "iopub.status.busy": "2025-01-07T22:40:16.616794Z",
          "iopub.status.idle": "2025-01-07T22:40:16.621603Z",
          "shell.execute_reply": "2025-01-07T22:40:16.620753Z"
        },
        "papermill": {
          "duration": 0.025561,
          "end_time": "2025-01-07T22:40:16.623310",
          "exception": false,
          "start_time": "2025-01-07T22:40:16.597749",
          "status": "completed"
        },
        "tags": [],
        "id": "b8af94d3"
      },
      "outputs": [],
      "source": [
        "train_df[\"Embarked\"].fillna(\"S\", inplace=True)"
      ]
    },
    {
      "cell_type": "code",
      "execution_count": null,
      "id": "df49caa3",
      "metadata": {
        "execution": {
          "iopub.execute_input": "2025-01-07T22:40:16.662776Z",
          "iopub.status.busy": "2025-01-07T22:40:16.662239Z",
          "iopub.status.idle": "2025-01-07T22:40:16.674007Z",
          "shell.execute_reply": "2025-01-07T22:40:16.672941Z"
        },
        "papermill": {
          "duration": 0.034598,
          "end_time": "2025-01-07T22:40:16.676043",
          "exception": false,
          "start_time": "2025-01-07T22:40:16.641445",
          "status": "completed"
        },
        "tags": [],
        "id": "df49caa3",
        "outputId": "ebaefb1f-daf6-478e-b1e4-056f7f281c2f"
      },
      "outputs": [
        {
          "data": {
            "text/plain": [
              "Fare\n",
              "8.0500     60\n",
              "13.0000    59\n",
              "7.7500     55\n",
              "26.0000    50\n",
              "7.8958     49\n",
              "           ..\n",
              "32.3208     1\n",
              "8.4583      1\n",
              "28.7125     1\n",
              "15.0500     1\n",
              "7.7208      1\n",
              "Name: count, Length: 281, dtype: int64"
            ]
          },
          "execution_count": 30,
          "metadata": {},
          "output_type": "execute_result"
        }
      ],
      "source": [
        "train_df['Fare'].value_counts()"
      ]
    },
    {
      "cell_type": "code",
      "execution_count": null,
      "id": "3a88266f",
      "metadata": {
        "execution": {
          "iopub.execute_input": "2025-01-07T22:40:16.728203Z",
          "iopub.status.busy": "2025-01-07T22:40:16.727840Z",
          "iopub.status.idle": "2025-01-07T22:40:16.733040Z",
          "shell.execute_reply": "2025-01-07T22:40:16.732161Z"
        },
        "papermill": {
          "duration": 0.027199,
          "end_time": "2025-01-07T22:40:16.734502",
          "exception": false,
          "start_time": "2025-01-07T22:40:16.707303",
          "status": "completed"
        },
        "tags": [],
        "id": "3a88266f"
      },
      "outputs": [],
      "source": [
        "droped_Columns=['PassengerId','Name','Ticket','Cabin']\n",
        "train_df=train_df.drop(droped_Columns,axis=1)"
      ]
    },
    {
      "cell_type": "code",
      "execution_count": null,
      "id": "58ad1f7d",
      "metadata": {
        "execution": {
          "iopub.execute_input": "2025-01-07T22:40:16.771819Z",
          "iopub.status.busy": "2025-01-07T22:40:16.771453Z",
          "iopub.status.idle": "2025-01-07T22:40:16.776824Z",
          "shell.execute_reply": "2025-01-07T22:40:16.776058Z"
        },
        "papermill": {
          "duration": 0.025801,
          "end_time": "2025-01-07T22:40:16.778324",
          "exception": false,
          "start_time": "2025-01-07T22:40:16.752523",
          "status": "completed"
        },
        "tags": [],
        "id": "58ad1f7d",
        "outputId": "e493e722-c5ca-4723-cfe2-598a1d7ebe4e"
      },
      "outputs": [
        {
          "data": {
            "text/plain": [
              "Index(['Survived', 'Pclass', 'Sex', 'Age', 'SibSp', 'Parch', 'Fare',\n",
              "       'Embarked'],\n",
              "      dtype='object')"
            ]
          },
          "execution_count": 32,
          "metadata": {},
          "output_type": "execute_result"
        }
      ],
      "source": [
        "train_df.columns"
      ]
    },
    {
      "cell_type": "code",
      "execution_count": null,
      "id": "1bf07de0",
      "metadata": {
        "execution": {
          "iopub.execute_input": "2025-01-07T22:40:16.816031Z",
          "iopub.status.busy": "2025-01-07T22:40:16.815677Z",
          "iopub.status.idle": "2025-01-07T22:40:16.823605Z",
          "shell.execute_reply": "2025-01-07T22:40:16.822613Z"
        },
        "papermill": {
          "duration": 0.028891,
          "end_time": "2025-01-07T22:40:16.825286",
          "exception": false,
          "start_time": "2025-01-07T22:40:16.796395",
          "status": "completed"
        },
        "tags": [],
        "id": "1bf07de0",
        "outputId": "04e00c85-3e1f-41ec-8896-01a8c57ad4ab"
      },
      "outputs": [
        {
          "data": {
            "text/plain": [
              "Survived\n",
              "0.0    30.653664\n",
              "1.0    28.377326\n",
              "Name: Age, dtype: float64"
            ]
          },
          "execution_count": 33,
          "metadata": {},
          "output_type": "execute_result"
        }
      ],
      "source": [
        "grouped_age=train_df.groupby('Survived')['Age'].mean()\n",
        "grouped_age"
      ]
    },
    {
      "cell_type": "code",
      "execution_count": null,
      "id": "70a3f85f",
      "metadata": {
        "execution": {
          "iopub.execute_input": "2025-01-07T22:40:16.862770Z",
          "iopub.status.busy": "2025-01-07T22:40:16.862368Z",
          "iopub.status.idle": "2025-01-07T22:40:16.867171Z",
          "shell.execute_reply": "2025-01-07T22:40:16.866156Z"
        },
        "papermill": {
          "duration": 0.025356,
          "end_time": "2025-01-07T22:40:16.868779",
          "exception": false,
          "start_time": "2025-01-07T22:40:16.843423",
          "status": "completed"
        },
        "tags": [],
        "id": "70a3f85f"
      },
      "outputs": [],
      "source": [
        "survied_check=grouped_age[1]\n",
        "train_df['Age'].fillna(survied_check, inplace=True)"
      ]
    },
    {
      "cell_type": "code",
      "execution_count": null,
      "id": "0f345e75",
      "metadata": {
        "execution": {
          "iopub.execute_input": "2025-01-07T22:40:16.909152Z",
          "iopub.status.busy": "2025-01-07T22:40:16.908782Z",
          "iopub.status.idle": "2025-01-07T22:40:16.913487Z",
          "shell.execute_reply": "2025-01-07T22:40:16.912702Z"
        },
        "papermill": {
          "duration": 0.026565,
          "end_time": "2025-01-07T22:40:16.915040",
          "exception": false,
          "start_time": "2025-01-07T22:40:16.888475",
          "status": "completed"
        },
        "tags": [],
        "id": "0f345e75"
      },
      "outputs": [],
      "source": [
        "unsurvied_check=grouped_age[0]\n",
        "train_df['Age'].fillna(unsurvied_check, inplace=True)"
      ]
    },
    {
      "cell_type": "code",
      "execution_count": null,
      "id": "f035d3d8",
      "metadata": {
        "execution": {
          "iopub.execute_input": "2025-01-07T22:40:16.953639Z",
          "iopub.status.busy": "2025-01-07T22:40:16.953213Z",
          "iopub.status.idle": "2025-01-07T22:40:16.965660Z",
          "shell.execute_reply": "2025-01-07T22:40:16.964731Z"
        },
        "papermill": {
          "duration": 0.033808,
          "end_time": "2025-01-07T22:40:16.967213",
          "exception": false,
          "start_time": "2025-01-07T22:40:16.933405",
          "status": "completed"
        },
        "tags": [],
        "id": "f035d3d8",
        "outputId": "a9361ced-04a6-4f1f-9eb7-9345aa0a4f9f"
      },
      "outputs": [
        {
          "data": {
            "text/html": [
              "<div>\n",
              "<style scoped>\n",
              "    .dataframe tbody tr th:only-of-type {\n",
              "        vertical-align: middle;\n",
              "    }\n",
              "\n",
              "    .dataframe tbody tr th {\n",
              "        vertical-align: top;\n",
              "    }\n",
              "\n",
              "    .dataframe thead th {\n",
              "        text-align: right;\n",
              "    }\n",
              "</style>\n",
              "<table border=\"1\" class=\"dataframe\">\n",
              "  <thead>\n",
              "    <tr style=\"text-align: right;\">\n",
              "      <th></th>\n",
              "      <th>Survived</th>\n",
              "      <th>Pclass</th>\n",
              "      <th>Sex</th>\n",
              "      <th>Age</th>\n",
              "      <th>SibSp</th>\n",
              "      <th>Parch</th>\n",
              "      <th>Fare</th>\n",
              "      <th>Embarked</th>\n",
              "    </tr>\n",
              "  </thead>\n",
              "  <tbody>\n",
              "    <tr>\n",
              "      <th>0</th>\n",
              "      <td>0.0</td>\n",
              "      <td>3</td>\n",
              "      <td>male</td>\n",
              "      <td>22.000000</td>\n",
              "      <td>1</td>\n",
              "      <td>0</td>\n",
              "      <td>7.2500</td>\n",
              "      <td>S</td>\n",
              "    </tr>\n",
              "    <tr>\n",
              "      <th>1</th>\n",
              "      <td>1.0</td>\n",
              "      <td>1</td>\n",
              "      <td>female</td>\n",
              "      <td>38.000000</td>\n",
              "      <td>1</td>\n",
              "      <td>0</td>\n",
              "      <td>71.2833</td>\n",
              "      <td>C</td>\n",
              "    </tr>\n",
              "    <tr>\n",
              "      <th>2</th>\n",
              "      <td>1.0</td>\n",
              "      <td>3</td>\n",
              "      <td>female</td>\n",
              "      <td>26.000000</td>\n",
              "      <td>0</td>\n",
              "      <td>0</td>\n",
              "      <td>7.9250</td>\n",
              "      <td>S</td>\n",
              "    </tr>\n",
              "    <tr>\n",
              "      <th>3</th>\n",
              "      <td>1.0</td>\n",
              "      <td>1</td>\n",
              "      <td>female</td>\n",
              "      <td>35.000000</td>\n",
              "      <td>1</td>\n",
              "      <td>0</td>\n",
              "      <td>53.1000</td>\n",
              "      <td>S</td>\n",
              "    </tr>\n",
              "    <tr>\n",
              "      <th>4</th>\n",
              "      <td>0.0</td>\n",
              "      <td>3</td>\n",
              "      <td>male</td>\n",
              "      <td>35.000000</td>\n",
              "      <td>0</td>\n",
              "      <td>0</td>\n",
              "      <td>8.0500</td>\n",
              "      <td>S</td>\n",
              "    </tr>\n",
              "    <tr>\n",
              "      <th>5</th>\n",
              "      <td>0.0</td>\n",
              "      <td>3</td>\n",
              "      <td>male</td>\n",
              "      <td>28.377326</td>\n",
              "      <td>0</td>\n",
              "      <td>0</td>\n",
              "      <td>8.4583</td>\n",
              "      <td>Q</td>\n",
              "    </tr>\n",
              "    <tr>\n",
              "      <th>6</th>\n",
              "      <td>0.0</td>\n",
              "      <td>1</td>\n",
              "      <td>male</td>\n",
              "      <td>54.000000</td>\n",
              "      <td>0</td>\n",
              "      <td>0</td>\n",
              "      <td>51.8625</td>\n",
              "      <td>S</td>\n",
              "    </tr>\n",
              "    <tr>\n",
              "      <th>7</th>\n",
              "      <td>0.0</td>\n",
              "      <td>3</td>\n",
              "      <td>male</td>\n",
              "      <td>2.000000</td>\n",
              "      <td>3</td>\n",
              "      <td>1</td>\n",
              "      <td>21.0750</td>\n",
              "      <td>S</td>\n",
              "    </tr>\n",
              "    <tr>\n",
              "      <th>8</th>\n",
              "      <td>1.0</td>\n",
              "      <td>3</td>\n",
              "      <td>female</td>\n",
              "      <td>27.000000</td>\n",
              "      <td>0</td>\n",
              "      <td>2</td>\n",
              "      <td>11.1333</td>\n",
              "      <td>S</td>\n",
              "    </tr>\n",
              "    <tr>\n",
              "      <th>9</th>\n",
              "      <td>1.0</td>\n",
              "      <td>2</td>\n",
              "      <td>female</td>\n",
              "      <td>14.000000</td>\n",
              "      <td>1</td>\n",
              "      <td>0</td>\n",
              "      <td>30.0708</td>\n",
              "      <td>C</td>\n",
              "    </tr>\n",
              "  </tbody>\n",
              "</table>\n",
              "</div>"
            ],
            "text/plain": [
              "   Survived  Pclass     Sex        Age  SibSp  Parch     Fare Embarked\n",
              "0       0.0       3    male  22.000000      1      0   7.2500        S\n",
              "1       1.0       1  female  38.000000      1      0  71.2833        C\n",
              "2       1.0       3  female  26.000000      0      0   7.9250        S\n",
              "3       1.0       1  female  35.000000      1      0  53.1000        S\n",
              "4       0.0       3    male  35.000000      0      0   8.0500        S\n",
              "5       0.0       3    male  28.377326      0      0   8.4583        Q\n",
              "6       0.0       1    male  54.000000      0      0  51.8625        S\n",
              "7       0.0       3    male   2.000000      3      1  21.0750        S\n",
              "8       1.0       3  female  27.000000      0      2  11.1333        S\n",
              "9       1.0       2  female  14.000000      1      0  30.0708        C"
            ]
          },
          "execution_count": 36,
          "metadata": {},
          "output_type": "execute_result"
        }
      ],
      "source": [
        "train_df.head(n=10)"
      ]
    },
    {
      "cell_type": "code",
      "execution_count": null,
      "id": "446d8a46",
      "metadata": {
        "execution": {
          "iopub.execute_input": "2025-01-07T22:40:17.005401Z",
          "iopub.status.busy": "2025-01-07T22:40:17.005032Z",
          "iopub.status.idle": "2025-01-07T22:40:17.010874Z",
          "shell.execute_reply": "2025-01-07T22:40:17.009900Z"
        },
        "papermill": {
          "duration": 0.026807,
          "end_time": "2025-01-07T22:40:17.012522",
          "exception": false,
          "start_time": "2025-01-07T22:40:16.985715",
          "status": "completed"
        },
        "tags": [],
        "id": "446d8a46"
      },
      "outputs": [],
      "source": [
        "#Fare column Skwed right so we fill null values with median\n",
        "median_fare = train_df[\"Fare\"].median()\n",
        "train_df[\"Fare\"].fillna(median_fare, inplace=True)"
      ]
    },
    {
      "cell_type": "code",
      "execution_count": null,
      "id": "cc95bc22",
      "metadata": {
        "execution": {
          "iopub.execute_input": "2025-01-07T22:40:17.050445Z",
          "iopub.status.busy": "2025-01-07T22:40:17.049973Z",
          "iopub.status.idle": "2025-01-07T22:40:17.057280Z",
          "shell.execute_reply": "2025-01-07T22:40:17.056292Z"
        },
        "papermill": {
          "duration": 0.027855,
          "end_time": "2025-01-07T22:40:17.058732",
          "exception": false,
          "start_time": "2025-01-07T22:40:17.030877",
          "status": "completed"
        },
        "tags": [],
        "id": "cc95bc22",
        "outputId": "e061f903-0a8a-425b-a46c-3bd599800da1"
      },
      "outputs": [
        {
          "data": {
            "text/plain": [
              "Survived    418\n",
              "Pclass        0\n",
              "Sex           0\n",
              "Age           0\n",
              "SibSp         0\n",
              "Parch         0\n",
              "Fare          0\n",
              "Embarked      0\n",
              "dtype: int64"
            ]
          },
          "execution_count": 38,
          "metadata": {},
          "output_type": "execute_result"
        }
      ],
      "source": [
        "train_df.isnull().sum()"
      ]
    },
    {
      "cell_type": "code",
      "execution_count": null,
      "id": "4ca52a4e",
      "metadata": {
        "execution": {
          "iopub.execute_input": "2025-01-07T22:40:17.097775Z",
          "iopub.status.busy": "2025-01-07T22:40:17.097304Z",
          "iopub.status.idle": "2025-01-07T22:40:17.290243Z",
          "shell.execute_reply": "2025-01-07T22:40:17.289185Z"
        },
        "papermill": {
          "duration": 0.214149,
          "end_time": "2025-01-07T22:40:17.292012",
          "exception": false,
          "start_time": "2025-01-07T22:40:17.077863",
          "status": "completed"
        },
        "tags": [],
        "id": "4ca52a4e",
        "outputId": "2d532544-ad39-4352-bdca-50e08e2204be"
      },
      "outputs": [
        {
          "data": {
            "image/png": "[encoded data removed]",
            "text/plain": [
              "<Figure size 800x600 with 1 Axes>"
            ]
          },
          "metadata": {},
          "output_type": "display_data"
        }
      ],
      "source": [
        "plt.figure(figsize=(8, 6))\n",
        "sns.countplot(data=train_df, x='Sex', hue='Survived')\n",
        "plt.title('Survival Rate by Sex')\n",
        "plt.xlabel('Sex')\n",
        "plt.ylabel('Count')\n",
        "plt.show()\n"
      ]
    },
    {
      "cell_type": "code",
      "execution_count": null,
      "id": "f4b7ccc9",
      "metadata": {
        "execution": {
          "iopub.execute_input": "2025-01-07T22:40:17.331726Z",
          "iopub.status.busy": "2025-01-07T22:40:17.331346Z",
          "iopub.status.idle": "2025-01-07T22:40:17.726438Z",
          "shell.execute_reply": "2025-01-07T22:40:17.725355Z"
        },
        "papermill": {
          "duration": 0.417255,
          "end_time": "2025-01-07T22:40:17.728212",
          "exception": false,
          "start_time": "2025-01-07T22:40:17.310957",
          "status": "completed"
        },
        "tags": [],
        "id": "f4b7ccc9",
        "outputId": "af12b8e1-35eb-4947-d6d2-77c79f2a9c4f"
      },
      "outputs": [
        {
          "data": {
            "image/png": "[encoded data removed]",
            "text/plain": [
              "<Figure size 1000x800 with 2 Axes>"
            ]
          },
          "metadata": {},
          "output_type": "display_data"
        }
      ],
      "source": [
        "#correlation between numeric variables\n",
        "# Select only numeric columns\n",
        "numeric_df = train_df.select_dtypes(include=[float, int])\n",
        "# Calculate the correlation\n",
        "plt.figure(figsize=(10, 8))\n",
        "sns.heatmap(numeric_df.corr(), annot=True, cmap='coolwarm', vmin=-1, vmax=1)\n",
        "plt.title('Correlation Heatmap')\n",
        "plt.show()"
      ]
    },
    {
      "cell_type": "code",
      "execution_count": null,
      "id": "b3939a3c",
      "metadata": {
        "execution": {
          "iopub.execute_input": "2025-01-07T22:40:17.769898Z",
          "iopub.status.busy": "2025-01-07T22:40:17.769531Z",
          "iopub.status.idle": "2025-01-07T22:40:18.055731Z",
          "shell.execute_reply": "2025-01-07T22:40:18.054696Z"
        },
        "papermill": {
          "duration": 0.308872,
          "end_time": "2025-01-07T22:40:18.057290",
          "exception": false,
          "start_time": "2025-01-07T22:40:17.748418",
          "status": "completed"
        },
        "tags": [],
        "id": "b3939a3c",
        "outputId": "806d72e3-e176-4493-d5c0-c38d5e8c72f8"
      },
      "outputs": [
        {
          "data": {
            "image/png": "[encoded data removed]",
            "text/plain": [
              "<Figure size 800x600 with 1 Axes>"
            ]
          },
          "metadata": {},
          "output_type": "display_data"
        }
      ],
      "source": [
        "plt.figure(figsize=(8, 6))\n",
        "sns.countplot(data=train_df, x='Pclass', hue='Survived')\n",
        "plt.title('Survival Rate by Pclass')\n",
        "plt.xlabel('Pclass')\n",
        "plt.ylabel('Count')\n",
        "plt.show()\n"
      ]
    },
    {
      "cell_type": "code",
      "execution_count": null,
      "id": "9d11355e",
      "metadata": {
        "execution": {
          "iopub.execute_input": "2025-01-07T22:40:18.099833Z",
          "iopub.status.busy": "2025-01-07T22:40:18.099446Z",
          "iopub.status.idle": "2025-01-07T22:40:18.639483Z",
          "shell.execute_reply": "2025-01-07T22:40:18.638445Z"
        },
        "papermill": {
          "duration": 0.563877,
          "end_time": "2025-01-07T22:40:18.641707",
          "exception": false,
          "start_time": "2025-01-07T22:40:18.077830",
          "status": "completed"
        },
        "tags": [],
        "id": "9d11355e",
        "outputId": "0c1caa9c-eadc-4754-8001-60ca715553e7"
      },
      "outputs": [
        {
          "name": "stderr",
          "output_type": "stream",
          "text": [
            "/usr/local/lib/python3.10/dist-packages/seaborn/_oldcore.py:1119: FutureWarning: use_inf_as_na option is deprecated and will be removed in a future version. Convert inf values to NaN before operating instead.\n",
            "  with pd.option_context('mode.use_inf_as_na', True):\n"
          ]
        },
        {
          "data": {
            "image/png": "[encoded data removed]",
            "text/plain": [
              "<Figure size 800x600 with 1 Axes>"
            ]
          },
          "metadata": {},
          "output_type": "display_data"
        }
      ],
      "source": [
        "plt.figure(figsize=(8, 6))\n",
        "sns.histplot(train_df['Age'], bins=20, kde=True, color='blue')\n",
        "plt.title('Age Distribution')\n",
        "plt.xlabel('Age')\n",
        "plt.ylabel('Frequency')\n",
        "plt.show()\n"
      ]
    },
    {
      "cell_type": "code",
      "execution_count": null,
      "id": "a3ef4f71",
      "metadata": {
        "execution": {
          "iopub.execute_input": "2025-01-07T22:40:18.693152Z",
          "iopub.status.busy": "2025-01-07T22:40:18.692769Z",
          "iopub.status.idle": "2025-01-07T22:40:19.007236Z",
          "shell.execute_reply": "2025-01-07T22:40:19.006068Z"
        },
        "papermill": {
          "duration": 0.340058,
          "end_time": "2025-01-07T22:40:19.009343",
          "exception": false,
          "start_time": "2025-01-07T22:40:18.669285",
          "status": "completed"
        },
        "tags": [],
        "id": "a3ef4f71",
        "outputId": "eb377992-47ef-4d46-f404-a23e63821325"
      },
      "outputs": [
        {
          "data": {
            "image/png": "[encoded data removed]",
            "text/plain": [
              "<Figure size 800x600 with 1 Axes>"
            ]
          },
          "metadata": {},
          "output_type": "display_data"
        }
      ],
      "source": [
        "plt.figure(figsize=(8, 6))\n",
        "sns.countplot(data=train_df, x='Embarked', hue='Survived')\n",
        "plt.title('Survival Rate by Embarked')\n",
        "plt.xlabel('Embarked')\n",
        "plt.ylabel('Count')\n",
        "plt.show()\n"
      ]
    },
    {
      "cell_type": "code",
      "execution_count": null,
      "id": "1643f769",
      "metadata": {
        "execution": {
          "iopub.execute_input": "2025-01-07T22:40:19.063907Z",
          "iopub.status.busy": "2025-01-07T22:40:19.063511Z",
          "iopub.status.idle": "2025-01-07T22:40:19.252963Z",
          "shell.execute_reply": "2025-01-07T22:40:19.251935Z"
        },
        "papermill": {
          "duration": 0.216525,
          "end_time": "2025-01-07T22:40:19.255251",
          "exception": false,
          "start_time": "2025-01-07T22:40:19.038726",
          "status": "completed"
        },
        "tags": [],
        "id": "1643f769"
      },
      "outputs": [],
      "source": [
        "from sklearn.preprocessing import LabelEncoder\n",
        "label_encoder = LabelEncoder()\n",
        "train_df['Sex'] = label_encoder.fit_transform(train_df['Sex'])\n",
        "train_df['Embarked'] = label_encoder.fit_transform(train_df['Embarked'])"
      ]
    },
    {
      "cell_type": "code",
      "execution_count": null,
      "id": "f2ccd333",
      "metadata": {
        "execution": {
          "iopub.execute_input": "2025-01-07T22:40:19.308443Z",
          "iopub.status.busy": "2025-01-07T22:40:19.307971Z",
          "iopub.status.idle": "2025-01-07T22:40:19.323937Z",
          "shell.execute_reply": "2025-01-07T22:40:19.322931Z"
        },
        "papermill": {
          "duration": 0.041437,
          "end_time": "2025-01-07T22:40:19.325754",
          "exception": false,
          "start_time": "2025-01-07T22:40:19.284317",
          "status": "completed"
        },
        "tags": [],
        "id": "f2ccd333",
        "outputId": "4d9f10ed-82eb-45fb-a2ae-475622400939"
      },
      "outputs": [
        {
          "data": {
            "text/html": [
              "<div>\n",
              "<style scoped>\n",
              "    .dataframe tbody tr th:only-of-type {\n",
              "        vertical-align: middle;\n",
              "    }\n",
              "\n",
              "    .dataframe tbody tr th {\n",
              "        vertical-align: top;\n",
              "    }\n",
              "\n",
              "    .dataframe thead th {\n",
              "        text-align: right;\n",
              "    }\n",
              "</style>\n",
              "<table border=\"1\" class=\"dataframe\">\n",
              "  <thead>\n",
              "    <tr style=\"text-align: right;\">\n",
              "      <th></th>\n",
              "      <th>Survived</th>\n",
              "      <th>Pclass</th>\n",
              "      <th>Sex</th>\n",
              "      <th>Age</th>\n",
              "      <th>SibSp</th>\n",
              "      <th>Parch</th>\n",
              "      <th>Fare</th>\n",
              "      <th>Embarked</th>\n",
              "    </tr>\n",
              "  </thead>\n",
              "  <tbody>\n",
              "    <tr>\n",
              "      <th>0</th>\n",
              "      <td>0.0</td>\n",
              "      <td>3</td>\n",
              "      <td>1</td>\n",
              "      <td>22.0</td>\n",
              "      <td>1</td>\n",
              "      <td>0</td>\n",
              "      <td>7.2500</td>\n",
              "      <td>2</td>\n",
              "    </tr>\n",
              "    <tr>\n",
              "      <th>1</th>\n",
              "      <td>1.0</td>\n",
              "      <td>1</td>\n",
              "      <td>0</td>\n",
              "      <td>38.0</td>\n",
              "      <td>1</td>\n",
              "      <td>0</td>\n",
              "      <td>71.2833</td>\n",
              "      <td>0</td>\n",
              "    </tr>\n",
              "    <tr>\n",
              "      <th>2</th>\n",
              "      <td>1.0</td>\n",
              "      <td>3</td>\n",
              "      <td>0</td>\n",
              "      <td>26.0</td>\n",
              "      <td>0</td>\n",
              "      <td>0</td>\n",
              "      <td>7.9250</td>\n",
              "      <td>2</td>\n",
              "    </tr>\n",
              "    <tr>\n",
              "      <th>3</th>\n",
              "      <td>1.0</td>\n",
              "      <td>1</td>\n",
              "      <td>0</td>\n",
              "      <td>35.0</td>\n",
              "      <td>1</td>\n",
              "      <td>0</td>\n",
              "      <td>53.1000</td>\n",
              "      <td>2</td>\n",
              "    </tr>\n",
              "    <tr>\n",
              "      <th>4</th>\n",
              "      <td>0.0</td>\n",
              "      <td>3</td>\n",
              "      <td>1</td>\n",
              "      <td>35.0</td>\n",
              "      <td>0</td>\n",
              "      <td>0</td>\n",
              "      <td>8.0500</td>\n",
              "      <td>2</td>\n",
              "    </tr>\n",
              "  </tbody>\n",
              "</table>\n",
              "</div>"
            ],
            "text/plain": [
              "   Survived  Pclass  Sex   Age  SibSp  Parch     Fare  Embarked\n",
              "0       0.0       3    1  22.0      1      0   7.2500         2\n",
              "1       1.0       1    0  38.0      1      0  71.2833         0\n",
              "2       1.0       3    0  26.0      0      0   7.9250         2\n",
              "3       1.0       1    0  35.0      1      0  53.1000         2\n",
              "4       0.0       3    1  35.0      0      0   8.0500         2"
            ]
          },
          "execution_count": 45,
          "metadata": {},
          "output_type": "execute_result"
        }
      ],
      "source": [
        "train_df.head()"
      ]
    },
    {
      "cell_type": "code",
      "execution_count": null,
      "id": "7fc68b60",
      "metadata": {
        "papermill": {
          "duration": 0.022236,
          "end_time": "2025-01-07T22:40:19.376953",
          "exception": false,
          "start_time": "2025-01-07T22:40:19.354717",
          "status": "completed"
        },
        "tags": [],
        "id": "7fc68b60"
      },
      "outputs": [],
      "source": []
    }
  ],
  "metadata": {
    "kaggle": {
      "accelerator": "none",
      "dataSources": [
        {
          "databundleVersionId": 26502,
          "sourceId": 3136,
          "sourceType": "competition"
        }
      ],
      "dockerImageVersionId": 30822,
      "isGpuEnabled": false,
      "isInternetEnabled": false,
      "language": "python",
      "sourceType": "notebook"
    },
    "kernelspec": {
      "display_name": "Python 3",
      "language": "python",
      "name": "python3"
    },
    "language_info": {
      "codemirror_mode": {
        "name": "ipython",
        "version": 3
      },
      "file_extension": ".py",
      "mimetype": "text/x-python",
      "name": "python",
      "nbconvert_exporter": "python",
      "pygments_lexer": "ipython3",
      "version": "3.10.12"
    },
    "papermill": {
      "default_parameters": {},
      "duration": 13.263344,
      "end_time": "2025-01-07T22:40:20.121464",
      "environment_variables": {},
      "exception": null,
      "input_path": "__notebook__.ipynb",
      "output_path": "__notebook__.ipynb",
      "parameters": {},
      "start_time": "2025-01-07T22:40:06.858120",
      "version": "2.6.0"
    },
    "colab": {
      "provenance": [],
      "include_colab_link": true
    }
  },
  "nbformat": 4,
  "nbformat_minor": 5
}